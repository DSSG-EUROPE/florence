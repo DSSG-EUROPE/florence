{
 "cells": [
  {
   "cell_type": "code",
   "execution_count": null,
   "metadata": {
    "collapsed": true
   },
   "outputs": [],
   "source": [
    "#############################################\n",
    "#### Exploratory Analysis of FirenzeCard data\n",
    "#############################################\n",
    "\n",
    "# import libraries\n",
    "import sys\n",
    "sys.path.append('../src/')\n",
    "import warnings\n",
    "warnings.filterwarnings('ignore')\n",
    "import matplotlib.pyplot as plt\n",
    "%matplotlib inline  \n",
    "import psycopg2\n",
    "from features.firenzecard import *"
   ]
  },
  {
   "cell_type": "code",
   "execution_count": null,
   "metadata": {
    "collapsed": true
   },
   "outputs": [],
   "source": [
    "# establish connection to db\n",
    "# connection = connect(host='', port=)\n",
    "\n",
    "df = pd.read_csv('../src/output/firenzedata_feature_extracted.csv')"
   ]
  },
  {
   "cell_type": "code",
   "execution_count": null,
   "metadata": {
    "collapsed": true
   },
   "outputs": [],
   "source": [
    "########################\n",
    "# Card Usage Behaviour\n",
    "########################\n",
    "\n",
    "# How many cards are there?\n",
    "print('How many Firenzecards are there?', len(df['user_id'].unique()))"
   ]
  },
  {
   "cell_type": "code",
   "execution_count": null,
   "metadata": {
    "collapsed": true
   },
   "outputs": [],
   "source": [
    "# How many cards were activated? \n",
    "len(df[(df['adults_first_use'] == 1)])\n",
    "\n",
    "# What is the most common day of activation?\n",
    "day_of_activation, plot_url_activation = plot_day_of_activation(df, plotname='DOA')\n",
    "plot_url_activation"
   ]
  },
  {
   "cell_type": "code",
   "execution_count": null,
   "metadata": {
    "collapsed": true
   },
   "outputs": [],
   "source": [
    "# How many users use the card for 24h or less? (not cumulative calculation)\n",
    "print(len(df[df['total_duration_card_use'] <= 24].user_id.unique()))\n",
    "\n",
    "# ... 24 - 48h?\n",
    "print(len(df[(df['total_duration_card_use'] > 24) & (df['total_duration_card_use'] <= 48)].user_id.unique()))\n",
    "\n",
    "# ... 48 - 72h?\n",
    "print(len(df[(df['total_duration_card_use'] > 48) & (df['total_duration_card_use'] <= 72)].user_id.unique()))"
   ]
  },
  {
   "cell_type": "code",
   "execution_count": null,
   "metadata": {
    "collapsed": true
   },
   "outputs": [],
   "source": [
    "# How many museums visited per card / per day\n",
    "total_museums_per_card, plot_url1 = plot_museums_visited_per_card(df, plotname1 = 'Number-museums-per-card')\n",
    "plot_url1"
   ]
  },
  {
   "cell_type": "code",
   "execution_count": null,
   "metadata": {
    "collapsed": true
   },
   "outputs": [],
   "source": [
    "########################\n",
    "# Popular Museums\n",
    "########################\n",
    "\n",
    "# What are the most popular museums?\n",
    "popular_museums, plot_url2 = plot_museum_aggregate_entries(df, plotname='PM')\n",
    "plot_url2"
   ]
  },
  {
   "cell_type": "code",
   "execution_count": null,
   "metadata": {
    "collapsed": true
   },
   "outputs": [],
   "source": [
    "########################\n",
    "# State Museum Visits\n",
    "########################\n",
    "\n",
    "national_museum_entries, plot_url3 = plot_national_museum_entries(connection, export_to_csv=True,export_path='../src/output/')\n",
    "plot_url3"
   ]
  },
  {
   "cell_type": "code",
   "execution_count": null,
   "metadata": {
    "collapsed": true
   },
   "outputs": [],
   "source": [
    "# How many cards are entering museums with minors? What proportion of all cards is this?\n",
    "minors = df[df['is_card_with_minors'] == 1]\n",
    "minors = minors.groupby('user_id').size().to_frame()                         \n",
    "len(minors)"
   ]
  },
  {
   "cell_type": "code",
   "execution_count": null,
   "metadata": {
    "collapsed": true
   },
   "outputs": [],
   "source": [
    "##############################\n",
    "# Entries in Museums over time\n",
    "##############################\n",
    "\n",
    "museum_list = ['Santa Croce', 'Opera del Duomo', 'Uffizi', 'Accademia',\n",
    "       'M. Casa Dante', 'M. Palazzo Vecchio', 'M. Galileo', 'M. Bargello',\n",
    "       'San Lorenzo', 'M. Archeologico', 'Pitti', 'Cappelle Medicee',\n",
    "       'M. Santa Maria Novella', 'M. San Marco', 'Laurenziana',\n",
    "       'M. Innocenti', 'Palazzo Strozzi', 'Palazzo Medici',\n",
    "       'Torre di Palazzo Vecchio', 'Brancacci', 'M. Opificio',\n",
    "       'La Specola', 'Orto Botanico', 'V. Bardini', 'M. Stefano Bardini',\n",
    "       'M. Antropologia', 'M. Ebraico', 'M. Marini', 'Casa Buonarroti',\n",
    "       'M. Horne', 'M. Ferragamo', 'M. Novecento', 'M. Palazzo Davanzati',\n",
    "       'M. Geologia', 'M. Civici Fiesole', 'M. Stibbert', 'M. Mineralogia',\n",
    "       'M. Preistoria', 'M. Calcio', 'Primo Conti','All Museums']"
   ]
  },
  {
   "cell_type": "code",
   "execution_count": null,
   "metadata": {
    "collapsed": true
   },
   "outputs": [],
   "source": [
    "df_date, plot_urls = get_museum_entries_per_timedelta_and_plot(df, museum_list, timedelta='date',\n",
    "                                                          start_date='2016-06-01',\n",
    "                                                          end_date='2016-09-30', plot=False, export_to_csv=False,\n",
    "                                                          export_path='../src/output/')\n",
    "\n",
    "df2_date = df_date['All Museums']\n",
    "df_date['All Museums'].head()"
   ]
  },
  {
   "cell_type": "code",
   "execution_count": null,
   "metadata": {
    "collapsed": true
   },
   "outputs": [],
   "source": [
    "df_hour, plot_urls = get_museum_entries_per_timedelta_and_plot(df, museum_list, timedelta='hour',\n",
    "                                                          start_date='2016-06-01',\n",
    "                                                          end_date='2016-09-30', plot=False, export_to_csv=False,\n",
    "                                                          export_path='../src/output/')\n",
    "\n",
    "df2_hour = df_hour['All Museums']\n",
    "df_hour['All Museums'].head()"
   ]
  },
  {
   "cell_type": "code",
   "execution_count": null,
   "metadata": {
    "collapsed": true
   },
   "outputs": [],
   "source": [
    "df_dow, plot_urls = get_museum_entries_per_timedelta_and_plot(df, museum_list, timedelta='day_of_week',\n",
    "                                                          start_date='2016-06-01',\n",
    "                                                          end_date='2016-09-30', plot=False, export_to_csv=False,\n",
    "                                                          export_path='../src/output/')\n",
    "\n",
    "df2_dow = df_dow['All Museums']\n",
    "df_dow['All Museums'].head()"
   ]
  },
  {
   "cell_type": "code",
   "execution_count": null,
   "metadata": {
    "collapsed": true
   },
   "outputs": [],
   "source": [
    "# Timeline of usage(per avg hour, calendar day, calendar month, weekday) - segment per museum\n",
    "mean_entries_hour, mean_entries_dow, mean_entries_date = get_timelines_of_usage(df2_hour, df2_date, df2_dow)\n",
    "# mean_entries_hour.head(), mean_entries_dow.head(), mean_entries_date.head()"
   ]
  },
  {
   "cell_type": "code",
   "execution_count": null,
   "metadata": {
    "collapsed": true
   },
   "outputs": [],
   "source": [
    "# Daily Museums entries \n",
    "date, date_url = plot_timeseries_button_plot(df_date, timedelta= 'date', plotname='timeseries')\n",
    "date_url"
   ]
  },
  {
   "cell_type": "code",
   "execution_count": null,
   "metadata": {
    "collapsed": true
   },
   "outputs": [],
   "source": [
    "# Hourly Museums entries \n",
    "hour, hour_url = plot_timeseries_button_plot(df_hour, timedelta= 'hour', plotname='timeseries')\n",
    "hour_url"
   ]
  },
  {
   "cell_type": "code",
   "execution_count": null,
   "metadata": {
    "collapsed": true
   },
   "outputs": [],
   "source": [
    "# Day of Week museum entries\n",
    "dow, dow_url = plot_timeseries_button_plot(df_dow, timedelta= 'day_of_week', plotname='testing')\n",
    "dow_url"
   ]
  },
  {
   "cell_type": "code",
   "execution_count": null,
   "metadata": {
    "collapsed": true
   },
   "outputs": [],
   "source": [
    "##########################\n",
    "## Geographic Timseries map\n",
    "##########################\n",
    "\n",
    "# Which museums are full, and which are rather empty, at different times of the day?\n",
    "# Are they located next to each other?\n",
    "data, geomap_plot_url = plot_geomap_timeseries(df, df2_hour, date_to_plot='2016-07-10', \n",
    "                           plotname='map-test', mapbox_access_token='pk.eyJ1IjoiY2hlbHNlYXBsb3RseSIsImEiOiJjaXFqeXVzdDkwMHFrZnRtOGtlMGtwcGs4In0.SLidkdBMEap9POJGIe1eGw', min_timedelta=7,\n",
    "                           max_timedelta=23)\n",
    "geomap_plot_url"
   ]
  },
  {
   "cell_type": "code",
   "execution_count": null,
   "metadata": {
    "collapsed": true
   },
   "outputs": [],
   "source": [
    "######################\n",
    "# Museum timeseries correlations\n",
    "######################\n",
    "\n",
    "lst = list(df.museum_id.unique())\n",
    "\n",
    "corr_matrix, high_corr, inverse_corr = get_correlation_matrix(df=df2_hour, lst = lst, corr_method = 'spearman',\n",
    "                                                              timedelta='hour', timedelta_subset = False, \n",
    "                                                              timedeltamin = 0, timedeltamax = 3, \n",
    "                                                              below_threshold= -0.7, above_threshold=0.7, \n",
    "                                                              export_to_csv=True, export_path='../src/output/')\n",
    "\n",
    "inverse_corr.head()"
   ]
  },
  {
   "cell_type": "code",
   "execution_count": null,
   "metadata": {
    "collapsed": true
   },
   "outputs": [],
   "source": []
  }
 ],
 "metadata": {
  "kernelspec": {
   "display_name": "Python 2",
   "language": "python",
   "name": "python2"
  },
  "language_info": {
   "codemirror_mode": {
    "name": "ipython",
    "version": 2
   },
   "file_extension": ".py",
   "mimetype": "text/x-python",
   "name": "python",
   "nbconvert_exporter": "python",
   "pygments_lexer": "ipython2",
   "version": "2.7.13"
  }
 },
 "nbformat": 4,
 "nbformat_minor": 2
}
