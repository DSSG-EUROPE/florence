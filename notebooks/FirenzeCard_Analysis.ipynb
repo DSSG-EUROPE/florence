{
 "cells": [
  {
   "cell_type": "code",
   "execution_count": 4,
   "metadata": {
    "collapsed": true
   },
   "outputs": [],
   "source": [
    "#############################################\n",
    "#### Exploratory Analysis of FirenzeCard data\n",
    "#############################################\n",
    "import sys\n",
    "sys.path.append('../src/')\n",
    "import warnings\n",
    "warnings.filterwarnings('ignore')\n",
    "import matplotlib.pyplot as plt\n",
    "%matplotlib inline  \n",
    "import psycopg2\n",
    "from features.firenzecard import *\n",
    "#from utils.dbutils import *\n",
    "\n",
    "# establish connection to db\n",
    "#connection = connect(host='', port=5432)\n",
    "\n",
    "df = pd.read_csv('../src/output/firenzedata_feature_extracted.csv')"
   ]
  },
  {
   "cell_type": "code",
   "execution_count": null,
   "metadata": {
    "collapsed": true
   },
   "outputs": [],
   "source": [
    "########################\n",
    "# Card Usage Behaviour\n",
    "########################\n",
    "\n",
    "# How many cards are there?\n",
    "print('How many Firenzecards are there?', len(df['user_id'].unique()))"
   ]
  },
  {
   "cell_type": "code",
   "execution_count": 3,
   "metadata": {},
   "outputs": [
    {
     "data": {
      "text/html": [
       "<iframe id=\"igraph\" scrolling=\"no\" style=\"border:none;\" seamless=\"seamless\" src=\"https://plot.ly/~qiweihan/487.embed\" height=\"525px\" width=\"100%\"></iframe>"
      ],
      "text/plain": [
       "<plotly.tools.PlotlyDisplay object>"
      ]
     },
     "execution_count": 3,
     "metadata": {},
     "output_type": "execute_result"
    }
   ],
   "source": [
    "# How many cards were activated? \n",
    "len(df[(df['adults_first_use'] == 1)])\n",
    "\n",
    "# What is the most common day of activation?\n",
    "day_of_activation, plot_url_activation = plot_day_of_activation(df, plotname='DOA')\n",
    "plot_url_activation"
   ]
  },
  {
   "cell_type": "code",
   "execution_count": 4,
   "metadata": {},
   "outputs": [
    {
     "name": "stdout",
     "output_type": "stream",
     "text": [
      "9162\n",
      "17929\n",
      "23939\n"
     ]
    }
   ],
   "source": [
    "# How many users use the card for 24h or less? (not cumulative calculation)\n",
    "print(len(df[df['total_duration_card_use'] <= 24].user_id.unique()))\n",
    "\n",
    "# ... 24 - 48h?\n",
    "print(len(df[(df['total_duration_card_use'] > 24) & (df['total_duration_card_use'] <= 48)].user_id.unique()))\n",
    "\n",
    "# ... 48 - 72h?\n",
    "print(len(df[(df['total_duration_card_use'] > 48) & (df['total_duration_card_use'] <= 72)].user_id.unique()))"
   ]
  },
  {
   "cell_type": "code",
   "execution_count": 5,
   "metadata": {},
   "outputs": [
    {
     "data": {
      "text/html": [
       "<iframe id=\"igraph\" scrolling=\"no\" style=\"border:none;\" seamless=\"seamless\" src=\"https://plot.ly/~qiweihan/453.embed\" height=\"525px\" width=\"100%\"></iframe>"
      ],
      "text/plain": [
       "<plotly.tools.PlotlyDisplay object>"
      ]
     },
     "execution_count": 5,
     "metadata": {},
     "output_type": "execute_result"
    }
   ],
   "source": [
    "# How many museums visited per card / per day\n",
    "total_museums_per_card, plot_url1 = plot_museums_visited_per_card(df, plotname1 = 'Number-museums-per-card')\n",
    "plot_url1"
   ]
  },
  {
   "cell_type": "code",
   "execution_count": 6,
   "metadata": {},
   "outputs": [
    {
     "data": {
      "text/html": [
       "<iframe id=\"igraph\" scrolling=\"no\" style=\"border:none;\" seamless=\"seamless\" src=\"https://plot.ly/~qiweihan/489.embed\" height=\"525px\" width=\"100%\"></iframe>"
      ],
      "text/plain": [
       "<plotly.tools.PlotlyDisplay object>"
      ]
     },
     "execution_count": 6,
     "metadata": {},
     "output_type": "execute_result"
    }
   ],
   "source": [
    "########################\n",
    "# Popular Museums\n",
    "########################\n",
    "\n",
    "# What are the most popular museums?\n",
    "popular_museums, plot_url2 = plot_museum_aggregate_entries(df, plotname='PM')\n",
    "plot_url2"
   ]
  },
  {
   "cell_type": "code",
   "execution_count": 7,
   "metadata": {
    "collapsed": true
   },
   "outputs": [],
   "source": [
    "########################\n",
    "# State Museum Visits\n",
    "########################\n",
    "\n",
    "national_museum_entries, plot_url3 = plot_national_museum_entries(connection, export_to_csv=True,\n",
    "                                                                      export_path='../src/output/')\n",
    "plot_url3"
   ]
  },
  {
   "cell_type": "code",
   "execution_count": 8,
   "metadata": {},
   "outputs": [
    {
     "data": {
      "text/plain": [
       "4914"
      ]
     },
     "execution_count": 8,
     "metadata": {},
     "output_type": "execute_result"
    }
   ],
   "source": [
    "# How many cards are entering museums with minors? What proportion of all cards is this?\n",
    "minors = df[df['is_card_with_minors'] == 1]\n",
    "minors = minors.groupby('user_id').size().to_frame()                         \n",
    "len(minors)"
   ]
  },
  {
   "cell_type": "code",
   "execution_count": 5,
   "metadata": {
    "collapsed": true
   },
   "outputs": [],
   "source": [
    "##############################\n",
    "# Entries in Museums over time\n",
    "##############################\n",
    "\n",
    "museum_list = ['Santa Croce', 'Opera del Duomo', 'Uffizi', 'Accademia',\n",
    "       'M. Casa Dante', 'M. Palazzo Vecchio', 'M. Galileo', 'M. Bargello',\n",
    "       'San Lorenzo', 'M. Archeologico', 'Pitti', 'Cappelle Medicee',\n",
    "       'M. Santa Maria Novella', 'M. San Marco', 'Laurenziana',\n",
    "       'M. Innocenti', 'Palazzo Strozzi', 'Palazzo Medici',\n",
    "       'Torre di Palazzo Vecchio', 'Brancacci', 'M. Opificio',\n",
    "       'La Specola', 'Orto Botanico', 'V. Bardini', 'M. Stefano Bardini',\n",
    "       'M. Antropologia', 'M. Ebraico', 'M. Marini', 'Casa Buonarroti',\n",
    "       'M. Horne', 'M. Ferragamo', 'M. Novecento', 'M. Palazzo Davanzati',\n",
    "       'M. Geologia', 'M. Civici Fiesole', 'M. Stibbert', 'M. Mineralogia',\n",
    "       'M. Preistoria', 'M. Calcio', 'Primo Conti','All Museums']"
   ]
  },
  {
   "cell_type": "code",
   "execution_count": 2,
   "metadata": {},
   "outputs": [
    {
     "data": {
      "text/html": [
       "<div>\n",
       "<style>\n",
       "    .dataframe thead tr:only-child th {\n",
       "        text-align: right;\n",
       "    }\n",
       "\n",
       "    .dataframe thead th {\n",
       "        text-align: left;\n",
       "    }\n",
       "\n",
       "    .dataframe tbody tr th {\n",
       "        vertical-align: top;\n",
       "    }\n",
       "</style>\n",
       "<table border=\"1\" class=\"dataframe\">\n",
       "  <thead>\n",
       "    <tr style=\"text-align: right;\">\n",
       "      <th></th>\n",
       "      <th>date</th>\n",
       "      <th>museum_id</th>\n",
       "      <th>total_entries</th>\n",
       "    </tr>\n",
       "  </thead>\n",
       "  <tbody>\n",
       "    <tr>\n",
       "      <th>0</th>\n",
       "      <td>2016-06-01</td>\n",
       "      <td>1</td>\n",
       "      <td>172</td>\n",
       "    </tr>\n",
       "    <tr>\n",
       "      <th>1</th>\n",
       "      <td>2016-06-01</td>\n",
       "      <td>2</td>\n",
       "      <td>134</td>\n",
       "    </tr>\n",
       "    <tr>\n",
       "      <th>2</th>\n",
       "      <td>2016-06-01</td>\n",
       "      <td>3</td>\n",
       "      <td>333</td>\n",
       "    </tr>\n",
       "    <tr>\n",
       "      <th>3</th>\n",
       "      <td>2016-06-01</td>\n",
       "      <td>4</td>\n",
       "      <td>71</td>\n",
       "    </tr>\n",
       "    <tr>\n",
       "      <th>4</th>\n",
       "      <td>2016-06-01</td>\n",
       "      <td>5</td>\n",
       "      <td>55</td>\n",
       "    </tr>\n",
       "  </tbody>\n",
       "</table>\n",
       "</div>"
      ],
      "text/plain": [
       "         date  museum_id  total_entries\n",
       "0  2016-06-01          1            172\n",
       "1  2016-06-01          2            134\n",
       "2  2016-06-01          3            333\n",
       "3  2016-06-01          4             71\n",
       "4  2016-06-01          5             55"
      ]
     },
     "execution_count": 2,
     "metadata": {},
     "output_type": "execute_result"
    }
   ],
   "source": [
    "df_date, plot_urls = get_museum_entries_per_timedelta_and_plot(df, museum_list, timedelta='date',\n",
    "                                                          start_date='2016-06-01',\n",
    "                                                          end_date='2016-09-30', plot=False, export_to_csv=False,\n",
    "                                                          export_path='../src/output/')\n",
    "\n",
    "df2_date = df_date['All Museums']\n",
    "df_date['All Museums'].head()"
   ]
  },
  {
   "cell_type": "code",
   "execution_count": 6,
   "metadata": {},
   "outputs": [
    {
     "data": {
      "text/html": [
       "<div>\n",
       "<style>\n",
       "    .dataframe thead tr:only-child th {\n",
       "        text-align: right;\n",
       "    }\n",
       "\n",
       "    .dataframe thead th {\n",
       "        text-align: left;\n",
       "    }\n",
       "\n",
       "    .dataframe tbody tr th {\n",
       "        vertical-align: top;\n",
       "    }\n",
       "</style>\n",
       "<table border=\"1\" class=\"dataframe\">\n",
       "  <thead>\n",
       "    <tr style=\"text-align: right;\">\n",
       "      <th></th>\n",
       "      <th>hour</th>\n",
       "      <th>museum_id</th>\n",
       "      <th>total_entries</th>\n",
       "    </tr>\n",
       "  </thead>\n",
       "  <tbody>\n",
       "    <tr>\n",
       "      <th>0</th>\n",
       "      <td>0</td>\n",
       "      <td>&lt;built-in function id&gt;</td>\n",
       "      <td>0.0</td>\n",
       "    </tr>\n",
       "    <tr>\n",
       "      <th>1</th>\n",
       "      <td>1</td>\n",
       "      <td>&lt;built-in function id&gt;</td>\n",
       "      <td>0.0</td>\n",
       "    </tr>\n",
       "    <tr>\n",
       "      <th>2</th>\n",
       "      <td>2</td>\n",
       "      <td>&lt;built-in function id&gt;</td>\n",
       "      <td>0.0</td>\n",
       "    </tr>\n",
       "    <tr>\n",
       "      <th>3</th>\n",
       "      <td>3</td>\n",
       "      <td>&lt;built-in function id&gt;</td>\n",
       "      <td>0.0</td>\n",
       "    </tr>\n",
       "    <tr>\n",
       "      <th>4</th>\n",
       "      <td>4</td>\n",
       "      <td>&lt;built-in function id&gt;</td>\n",
       "      <td>0.0</td>\n",
       "    </tr>\n",
       "  </tbody>\n",
       "</table>\n",
       "</div>"
      ],
      "text/plain": [
       "   hour               museum_id  total_entries\n",
       "0     0  <built-in function id>            0.0\n",
       "1     1  <built-in function id>            0.0\n",
       "2     2  <built-in function id>            0.0\n",
       "3     3  <built-in function id>            0.0\n",
       "4     4  <built-in function id>            0.0"
      ]
     },
     "execution_count": 6,
     "metadata": {},
     "output_type": "execute_result"
    }
   ],
   "source": [
    "df_hour, plot_urls = get_museum_entries_per_timedelta_and_plot(df, museum_list, timedelta='hour',\n",
    "                                                          start_date='2016-06-01',\n",
    "                                                          end_date='2016-09-30', plot=False, export_to_csv=False,\n",
    "                                                          export_path='../src/output/')\n",
    "\n",
    "df2_hour = df_hour['All Museums']\n",
    "df_hour['All Museums'].head()"
   ]
  },
  {
   "cell_type": "code",
   "execution_count": 10,
   "metadata": {},
   "outputs": [
    {
     "data": {
      "text/html": [
       "<div>\n",
       "<style>\n",
       "    .dataframe thead tr:only-child th {\n",
       "        text-align: right;\n",
       "    }\n",
       "\n",
       "    .dataframe thead th {\n",
       "        text-align: left;\n",
       "    }\n",
       "\n",
       "    .dataframe tbody tr th {\n",
       "        vertical-align: top;\n",
       "    }\n",
       "</style>\n",
       "<table border=\"1\" class=\"dataframe\">\n",
       "  <thead>\n",
       "    <tr style=\"text-align: right;\">\n",
       "      <th></th>\n",
       "      <th>day_of_week</th>\n",
       "      <th>museum_id</th>\n",
       "      <th>total_entries</th>\n",
       "    </tr>\n",
       "  </thead>\n",
       "  <tbody>\n",
       "    <tr>\n",
       "      <th>0</th>\n",
       "      <td>0</td>\n",
       "      <td>1</td>\n",
       "      <td>4008.0</td>\n",
       "    </tr>\n",
       "    <tr>\n",
       "      <th>1</th>\n",
       "      <td>0</td>\n",
       "      <td>2</td>\n",
       "      <td>3481.0</td>\n",
       "    </tr>\n",
       "    <tr>\n",
       "      <th>2</th>\n",
       "      <td>0</td>\n",
       "      <td>3</td>\n",
       "      <td>12261.0</td>\n",
       "    </tr>\n",
       "    <tr>\n",
       "      <th>3</th>\n",
       "      <td>0</td>\n",
       "      <td>4</td>\n",
       "      <td>1608.0</td>\n",
       "    </tr>\n",
       "    <tr>\n",
       "      <th>4</th>\n",
       "      <td>0</td>\n",
       "      <td>5</td>\n",
       "      <td>699.0</td>\n",
       "    </tr>\n",
       "  </tbody>\n",
       "</table>\n",
       "</div>"
      ],
      "text/plain": [
       "   day_of_week museum_id  total_entries\n",
       "0            0         1         4008.0\n",
       "1            0         2         3481.0\n",
       "2            0         3        12261.0\n",
       "3            0         4         1608.0\n",
       "4            0         5          699.0"
      ]
     },
     "execution_count": 10,
     "metadata": {},
     "output_type": "execute_result"
    }
   ],
   "source": [
    "df_dow, plot_urls = get_museum_entries_per_timedelta_and_plot(df, museum_list, timedelta='day_of_week',\n",
    "                                                          start_date='2016-06-01',\n",
    "                                                          end_date='2016-09-30', plot=False, export_to_csv=False,\n",
    "                                                          export_path='../src/output/')\n",
    "\n",
    "df2_dow = df_dow['All Museums']\n",
    "df_dow['All Museums'].head()"
   ]
  },
  {
   "cell_type": "code",
   "execution_count": 12,
   "metadata": {
    "collapsed": true
   },
   "outputs": [],
   "source": [
    "# Timeline of usage(per avg hour, calendar day, calendar month, weekday) - segment per museum\n",
    "mean_entries_hour, mean_entries_dow, mean_entries_date = get_timelines_of_usage(df2_hour, df2_date, df2_dow)\n",
    "# mean_entries_hour.head(), mean_entries_dow.head(), mean_entries_date.head()"
   ]
  },
  {
   "cell_type": "code",
   "execution_count": 13,
   "metadata": {},
   "outputs": [
    {
     "data": {
      "text/html": [
       "<iframe id=\"igraph\" scrolling=\"no\" style=\"border:none;\" seamless=\"seamless\" src=\"https://plot.ly/~qiweihan/468.embed\" height=\"500px\" width=\"900px\"></iframe>"
      ],
      "text/plain": [
       "<plotly.tools.PlotlyDisplay object>"
      ]
     },
     "execution_count": 13,
     "metadata": {},
     "output_type": "execute_result"
    }
   ],
   "source": [
    "# Daily Museums entries \n",
    "date, date_url = plot_timeseries_button_plot(df_date, timedelta= 'date', plotname='timeseries')\n",
    "date_url"
   ]
  },
  {
   "cell_type": "code",
   "execution_count": 14,
   "metadata": {},
   "outputs": [
    {
     "data": {
      "text/html": [
       "<iframe id=\"igraph\" scrolling=\"no\" style=\"border:none;\" seamless=\"seamless\" src=\"https://plot.ly/~qiweihan/468.embed\" height=\"500px\" width=\"900px\"></iframe>"
      ],
      "text/plain": [
       "<plotly.tools.PlotlyDisplay object>"
      ]
     },
     "execution_count": 14,
     "metadata": {},
     "output_type": "execute_result"
    }
   ],
   "source": [
    "# Hourly Museums entries \n",
    "hour, hour_url = plot_timeseries_button_plot(df_hour, timedelta= 'hour', plotname='timeseries')\n",
    "hour_url"
   ]
  },
  {
   "cell_type": "code",
   "execution_count": 12,
   "metadata": {},
   "outputs": [
    {
     "data": {
      "text/html": [
       "<iframe id=\"igraph\" scrolling=\"no\" style=\"border:none;\" seamless=\"seamless\" src=\"https://plot.ly/~qiweihan/499.embed\" height=\"500px\" width=\"900px\"></iframe>"
      ],
      "text/plain": [
       "<plotly.tools.PlotlyDisplay object>"
      ]
     },
     "execution_count": 12,
     "metadata": {},
     "output_type": "execute_result"
    }
   ],
   "source": [
    "# Day of Week museum entries\n",
    "dow, dow_url = plot_timeseries_button_plot(df_dow, timedelta= 'day_of_week', plotname='testing')\n",
    "dow_url"
   ]
  },
  {
   "cell_type": "code",
   "execution_count": 4,
   "metadata": {},
   "outputs": [
    {
     "data": {
      "text/html": [
       "<iframe id=\"igraph\" scrolling=\"no\" style=\"border:none;\" seamless=\"seamless\" src=\"https://plot.ly/~qiweihan/501.embed\" height=\"525px\" width=\"100%\"></iframe>"
      ],
      "text/plain": [
       "<plotly.tools.PlotlyDisplay object>"
      ]
     },
     "execution_count": 4,
     "metadata": {},
     "output_type": "execute_result"
    }
   ],
   "source": [
    "##########################\n",
    "## Geographic Timseries map\n",
    "##########################\n",
    "\n",
    "# Which museums are full, and which are rather empty, at different times of the day?\n",
    "# Are they located next to each other?\n",
    "data, geomap_plot_url = plot_geomap_timeseries(df, df2_hour, date_to_plot='2016-07-10', \n",
    "                           plotname='map-test', mapbox_access_token='pk.eyJ1IjoiY2hlbHNlYXBsb3RseSIsImEiOiJjaXFqeXVzdDkwMHFrZnRtOGtlMGtwcGs4In0.SLidkdBMEap9POJGIe1eGw', min_timedelta=7,\n",
    "                           max_timedelta=23)\n",
    "geomap_plot_url"
   ]
  },
  {
   "cell_type": "code",
   "execution_count": 20,
   "metadata": {},
   "outputs": [
    {
     "data": {
      "text/html": [
       "<div>\n",
       "<style>\n",
       "    .dataframe thead tr:only-child th {\n",
       "        text-align: right;\n",
       "    }\n",
       "\n",
       "    .dataframe thead th {\n",
       "        text-align: left;\n",
       "    }\n",
       "\n",
       "    .dataframe tbody tr th {\n",
       "        vertical-align: top;\n",
       "    }\n",
       "</style>\n",
       "<table border=\"1\" class=\"dataframe\">\n",
       "  <thead>\n",
       "    <tr style=\"text-align: right;\">\n",
       "      <th></th>\n",
       "      <th>inverse_combinations_1</th>\n",
       "      <th>inverse_combinations_2</th>\n",
       "      <th>values</th>\n",
       "    </tr>\n",
       "  </thead>\n",
       "  <tbody>\n",
       "    <tr>\n",
       "      <th>0</th>\n",
       "      <td>1</td>\n",
       "      <td>25</td>\n",
       "      <td>-0.880952</td>\n",
       "    </tr>\n",
       "    <tr>\n",
       "      <th>1</th>\n",
       "      <td>2</td>\n",
       "      <td>28</td>\n",
       "      <td>-0.785714</td>\n",
       "    </tr>\n",
       "    <tr>\n",
       "      <th>2</th>\n",
       "      <td>2</td>\n",
       "      <td>42</td>\n",
       "      <td>-0.880952</td>\n",
       "    </tr>\n",
       "    <tr>\n",
       "      <th>3</th>\n",
       "      <td>3</td>\n",
       "      <td>28</td>\n",
       "      <td>-0.750000</td>\n",
       "    </tr>\n",
       "    <tr>\n",
       "      <th>4</th>\n",
       "      <td>5</td>\n",
       "      <td>17</td>\n",
       "      <td>-1.000000</td>\n",
       "    </tr>\n",
       "  </tbody>\n",
       "</table>\n",
       "</div>"
      ],
      "text/plain": [
       "  inverse_combinations_1 inverse_combinations_2    values\n",
       "0                      1                     25 -0.880952\n",
       "1                      2                     28 -0.785714\n",
       "2                      2                     42 -0.880952\n",
       "3                      3                     28 -0.750000\n",
       "4                      5                     17 -1.000000"
      ]
     },
     "execution_count": 20,
     "metadata": {},
     "output_type": "execute_result"
    }
   ],
   "source": [
    "######################\n",
    "# Museum timeseries correlations\n",
    "######################\n",
    "\n",
    "lst = list(df.museum_id.unique())\n",
    "\n",
    "corr_matrix, high_corr, inverse_corr = get_correlation_matrix(df=df2_hour, lst = lst, corr_method = 'spearman',\n",
    "                                                              timedelta='hour', timedelta_subset = False, \n",
    "                                                              timedeltamin = 0, timedeltamax = 3, \n",
    "                                                              below_threshold= -0.7, above_threshold=0.7, \n",
    "                                                              export_to_csv=True, export_path='../src/output/')\n",
    "\n",
    "inverse_corr.head()"
   ]
  },
  {
   "cell_type": "code",
   "execution_count": 7,
   "metadata": {},
   "outputs": [
    {
     "data": {
      "text/html": [
       "<div>\n",
       "<style>\n",
       "    .dataframe thead tr:only-child th {\n",
       "        text-align: right;\n",
       "    }\n",
       "\n",
       "    .dataframe thead th {\n",
       "        text-align: left;\n",
       "    }\n",
       "\n",
       "    .dataframe tbody tr th {\n",
       "        vertical-align: top;\n",
       "    }\n",
       "</style>\n",
       "<table border=\"1\" class=\"dataframe\">\n",
       "  <thead>\n",
       "    <tr style=\"text-align: right;\">\n",
       "      <th></th>\n",
       "      <th>user_id</th>\n",
       "      <th>museum_id</th>\n",
       "      <th>entrances_per_card_per_museum</th>\n",
       "      <th>museum_name</th>\n",
       "      <th>longitude</th>\n",
       "      <th>latitude</th>\n",
       "      <th>short_name</th>\n",
       "      <th>string</th>\n",
       "      <th>entry_time</th>\n",
       "      <th>adults_first_use</th>\n",
       "      <th>...</th>\n",
       "      <th>is_in_museum_30</th>\n",
       "      <th>is_in_museum_31</th>\n",
       "      <th>is_in_museum_32</th>\n",
       "      <th>is_in_museum_33</th>\n",
       "      <th>is_in_museum_34</th>\n",
       "      <th>is_in_museum_35</th>\n",
       "      <th>is_in_museum_36</th>\n",
       "      <th>is_in_museum_37</th>\n",
       "      <th>is_in_museum_38</th>\n",
       "      <th>is_in_museum_39</th>\n",
       "    </tr>\n",
       "  </thead>\n",
       "  <tbody>\n",
       "    <tr>\n",
       "      <th>0</th>\n",
       "      <td>1459702</td>\n",
       "      <td>1</td>\n",
       "      <td>1</td>\n",
       "      <td>Basilica di Santa Croce</td>\n",
       "      <td>11.262598</td>\n",
       "      <td>43.768754</td>\n",
       "      <td>Santa Croce</td>\n",
       "      <td>C</td>\n",
       "      <td>2016-06-23 15:05:00</td>\n",
       "      <td>0</td>\n",
       "      <td>...</td>\n",
       "      <td>0</td>\n",
       "      <td>0</td>\n",
       "      <td>0</td>\n",
       "      <td>0</td>\n",
       "      <td>0</td>\n",
       "      <td>0</td>\n",
       "      <td>0</td>\n",
       "      <td>0</td>\n",
       "      <td>0</td>\n",
       "      <td>0</td>\n",
       "    </tr>\n",
       "    <tr>\n",
       "      <th>1</th>\n",
       "      <td>1459702</td>\n",
       "      <td>3</td>\n",
       "      <td>1</td>\n",
       "      <td>Battistero di San Giovanni</td>\n",
       "      <td>11.254966</td>\n",
       "      <td>43.773131</td>\n",
       "      <td>Opera del Duomo</td>\n",
       "      <td>D</td>\n",
       "      <td>2016-06-23 09:43:00</td>\n",
       "      <td>0</td>\n",
       "      <td>...</td>\n",
       "      <td>0</td>\n",
       "      <td>0</td>\n",
       "      <td>0</td>\n",
       "      <td>0</td>\n",
       "      <td>0</td>\n",
       "      <td>0</td>\n",
       "      <td>0</td>\n",
       "      <td>0</td>\n",
       "      <td>0</td>\n",
       "      <td>0</td>\n",
       "    </tr>\n",
       "    <tr>\n",
       "      <th>2</th>\n",
       "      <td>1459702</td>\n",
       "      <td>10</td>\n",
       "      <td>1</td>\n",
       "      <td>Galleria degli Uffizi</td>\n",
       "      <td>11.255607</td>\n",
       "      <td>43.768526</td>\n",
       "      <td>Uffizi</td>\n",
       "      <td>U</td>\n",
       "      <td>2016-06-22 10:04:00</td>\n",
       "      <td>1</td>\n",
       "      <td>...</td>\n",
       "      <td>0</td>\n",
       "      <td>0</td>\n",
       "      <td>0</td>\n",
       "      <td>0</td>\n",
       "      <td>0</td>\n",
       "      <td>0</td>\n",
       "      <td>0</td>\n",
       "      <td>0</td>\n",
       "      <td>0</td>\n",
       "      <td>0</td>\n",
       "    </tr>\n",
       "    <tr>\n",
       "      <th>3</th>\n",
       "      <td>1459702</td>\n",
       "      <td>11</td>\n",
       "      <td>1</td>\n",
       "      <td>Galleria dell'Accademia di Firenze</td>\n",
       "      <td>11.258516</td>\n",
       "      <td>43.776755</td>\n",
       "      <td>Accademia</td>\n",
       "      <td>A</td>\n",
       "      <td>2016-06-22 15:49:00</td>\n",
       "      <td>0</td>\n",
       "      <td>...</td>\n",
       "      <td>0</td>\n",
       "      <td>0</td>\n",
       "      <td>0</td>\n",
       "      <td>0</td>\n",
       "      <td>0</td>\n",
       "      <td>0</td>\n",
       "      <td>0</td>\n",
       "      <td>0</td>\n",
       "      <td>0</td>\n",
       "      <td>0</td>\n",
       "    </tr>\n",
       "    <tr>\n",
       "      <th>4</th>\n",
       "      <td>1459702</td>\n",
       "      <td>15</td>\n",
       "      <td>1</td>\n",
       "      <td>Museo Casa Dante</td>\n",
       "      <td>11.257062</td>\n",
       "      <td>43.771071</td>\n",
       "      <td>M. Casa Dante</td>\n",
       "      <td>3</td>\n",
       "      <td>2016-06-22 14:26:00</td>\n",
       "      <td>0</td>\n",
       "      <td>...</td>\n",
       "      <td>0</td>\n",
       "      <td>0</td>\n",
       "      <td>0</td>\n",
       "      <td>0</td>\n",
       "      <td>0</td>\n",
       "      <td>0</td>\n",
       "      <td>0</td>\n",
       "      <td>0</td>\n",
       "      <td>0</td>\n",
       "      <td>0</td>\n",
       "    </tr>\n",
       "  </tbody>\n",
       "</table>\n",
       "<p>5 rows × 61 columns</p>\n",
       "</div>"
      ],
      "text/plain": [
       "   user_id  museum_id  entrances_per_card_per_museum  \\\n",
       "0  1459702          1                              1   \n",
       "1  1459702          3                              1   \n",
       "2  1459702         10                              1   \n",
       "3  1459702         11                              1   \n",
       "4  1459702         15                              1   \n",
       "\n",
       "                          museum_name  longitude   latitude       short_name  \\\n",
       "0             Basilica di Santa Croce  11.262598  43.768754      Santa Croce   \n",
       "1          Battistero di San Giovanni  11.254966  43.773131  Opera del Duomo   \n",
       "2               Galleria degli Uffizi  11.255607  43.768526           Uffizi   \n",
       "3  Galleria dell'Accademia di Firenze  11.258516  43.776755        Accademia   \n",
       "4                    Museo Casa Dante  11.257062  43.771071    M. Casa Dante   \n",
       "\n",
       "  string           entry_time  adults_first_use       ...         \\\n",
       "0      C  2016-06-23 15:05:00                 0       ...          \n",
       "1      D  2016-06-23 09:43:00                 0       ...          \n",
       "2      U  2016-06-22 10:04:00                 1       ...          \n",
       "3      A  2016-06-22 15:49:00                 0       ...          \n",
       "4      3  2016-06-22 14:26:00                 0       ...          \n",
       "\n",
       "   is_in_museum_30  is_in_museum_31  is_in_museum_32 is_in_museum_33  \\\n",
       "0                0                0                0               0   \n",
       "1                0                0                0               0   \n",
       "2                0                0                0               0   \n",
       "3                0                0                0               0   \n",
       "4                0                0                0               0   \n",
       "\n",
       "  is_in_museum_34  is_in_museum_35  is_in_museum_36  is_in_museum_37  \\\n",
       "0               0                0                0                0   \n",
       "1               0                0                0                0   \n",
       "2               0                0                0                0   \n",
       "3               0                0                0                0   \n",
       "4               0                0                0                0   \n",
       "\n",
       "   is_in_museum_38  is_in_museum_39  \n",
       "0                0                0  \n",
       "1                0                0  \n",
       "2                0                0  \n",
       "3                0                0  \n",
       "4                0                0  \n",
       "\n",
       "[5 rows x 61 columns]"
      ]
     },
     "execution_count": 7,
     "metadata": {},
     "output_type": "execute_result"
    }
   ],
   "source": [
    "df.head()"
   ]
  }
   
  
