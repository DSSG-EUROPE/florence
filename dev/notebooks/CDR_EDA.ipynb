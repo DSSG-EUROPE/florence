{
 "cells": [
  {
   "cell_type": "code",
   "execution_count": 1,
   "metadata": {
    "collapsed": true
   },
   "outputs": [],
   "source": [
    "import pandas as pd\n",
    "import numpy as np\n",
    "import plotly\n",
    "from plotly.graph_objs import * # todo remove redundant imports\n",
    "import plotly.plotly as py\n",
    "import plotly.graph_objs as go\n",
    "from plotly import tools"
   ]
  },
  {
   "cell_type": "code",
   "execution_count": null,
   "metadata": {
    "collapsed": true
   },
   "outputs": [],
   "source": []
  },
  {
   "cell_type": "code",
   "execution_count": 3,
   "metadata": {
    "collapsed": true
   },
   "outputs": [],
   "source": [
    "resident = pd.read_csv('../../cdr_presence_residents.csv')"
   ]
  },
  {
   "cell_type": "code",
   "execution_count": 5,
   "metadata": {},
   "outputs": [
    {
     "data": {
      "text/html": [
       "<iframe id=\"igraph\" scrolling=\"no\" style=\"border:none;\" seamless=\"seamless\" src=\"https://plot.ly/~qiweihan/411.embed\" height=\"525px\" width=\"100%\"></iframe>"
      ],
      "text/plain": [
       "<plotly.tools.PlotlyDisplay object>"
      ]
     },
     "execution_count": 5,
     "metadata": {},
     "output_type": "execute_result"
    }
   ],
   "source": [
    "resident_trace = Bar(\n",
    "    x=resident['day'],\n",
    "    y=resident['presence'],\n",
    "    name = 'Estimated Presence of Residents in Florence'\n",
    ")\n",
    "\n",
    "layout = go.Layout(\n",
    "    barmode='stack',\n",
    "    bargap=0,\n",
    "    title='Estimated Presence of Residents in Florence per Day',\n",
    "    xaxis=dict(\n",
    "        title='Date',\n",
    "        fixedrange=True\n",
    "    ),\n",
    "    yaxis=dict(\n",
    "        title='Total Presence',\n",
    "        fixedrange=True\n",
    "    ),\n",
    ")\n",
    "\n",
    "fig = go.Figure(data=go.Data([resident_trace]), layout=layout)\n",
    "py.iplot(fig, filename='cdr_presence_residents_timeseries_old', sharing='private')"
   ]
  },
  {
   "cell_type": "code",
   "execution_count": 117,
   "metadata": {
    "collapsed": true
   },
   "outputs": [],
   "source": [
    "visitor = pd.read_csv('../../cdr_presence_italian_visitors.csv')"
   ]
  },
  {
   "cell_type": "code",
   "execution_count": 4,
   "metadata": {
    "collapsed": true
   },
   "outputs": [],
   "source": [
    "# visitor_trace = Bar(\n",
    "#     x=visitor['day'],\n",
    "#     y=visitor['presence'],\n",
    "#     name = 'Estimated Presence of Italian Visitors in Florence'\n",
    "# )\n",
    "def stacked_bar_chart(df, filename, stacks='place_of_origin', title=''):\n",
    "    data = []\n",
    "    # sorted_df = df.sort_values('presence')\n",
    "    averages = df.groupby([stacks])['presence'].sum().reset_index(name='total_presence')\n",
    "    df_merged = pd.merge(df, averages, left_on=stacks, right_on=stacks, how='outer')\n",
    "    sorted_df = df_merged.sort_values('total_presence')\n",
    "    \n",
    "    final_df = df_merged.groupby(['day', stacks])['presence'].sum().reset_index(name='sum_presence')\n",
    "    \n",
    "    for place in sorted_df[stacks].unique():\n",
    "        place_presence = final_df.loc[final_df[stacks] == place]\n",
    "\n",
    "        trace = Bar(\n",
    "            x=place_presence['day'],\n",
    "            y=place_presence['sum_presence'],\n",
    "            name=place\n",
    "        )\n",
    "\n",
    "        data.append(trace)\n",
    "\n",
    "    layout = go.Layout(\n",
    "        barmode='stack',\n",
    "        bargap=0,\n",
    "        title=title,\n",
    "        xaxis=dict(\n",
    "            title='Date',\n",
    "            fixedrange=True\n",
    "        ),\n",
    "        yaxis=dict(\n",
    "            title='Total Presence',\n",
    "            fixedrange=True\n",
    "        )\n",
    "    )\n",
    "\n",
    "    fig = go.Figure(data=data, layout=layout)\n",
    "    return py.iplot(fig, filename=filename, sharing='private')"
   ]
  },
  {
   "cell_type": "code",
   "execution_count": 2,
   "metadata": {},
   "outputs": [
    {
     "ename": "NameError",
     "evalue": "name 'visitor' is not defined",
     "output_type": "error",
     "traceback": [
      "\u001b[0;31m---------------------------------------------------------------------------\u001b[0m",
      "\u001b[0;31mNameError\u001b[0m                                 Traceback (most recent call last)",
      "\u001b[0;32m<ipython-input-2-da879986a9c8>\u001b[0m in \u001b[0;36m<module>\u001b[0;34m()\u001b[0m\n\u001b[0;32m----> 1\u001b[0;31m \u001b[0mstacked_bar_chart\u001b[0m\u001b[0;34m(\u001b[0m\u001b[0mvisitor\u001b[0m\u001b[0;34m,\u001b[0m \u001b[0;34m'cdr_presence_visitors_timeseries_old'\u001b[0m\u001b[0;34m,\u001b[0m \u001b[0mtitle\u001b[0m\u001b[0;34m=\u001b[0m\u001b[0;34m'Estimated Presence of Italian Visitors in Florence per Day'\u001b[0m\u001b[0;34m)\u001b[0m\u001b[0;34m\u001b[0m\u001b[0m\n\u001b[0m",
      "\u001b[0;31mNameError\u001b[0m: name 'visitor' is not defined"
     ]
    }
   ],
   "source": [
    "stacked_bar_chart(visitor, 'cdr_presence_visitors_timeseries_old', title='Estimated Presence of Italian Visitors in Florence per Day')"
   ]
  },
  {
   "cell_type": "code",
   "execution_count": 120,
   "metadata": {
    "collapsed": true
   },
   "outputs": [],
   "source": [
    "foreign = pd.read_csv('../../cdr_presence_foreigners.csv')"
   ]
  },
  {
   "cell_type": "code",
   "execution_count": 121,
   "metadata": {
    "collapsed": true
   },
   "outputs": [],
   "source": [
    "country_groups = pd.read_csv('../../cdr_country_groupings.csv')\n",
    "foreign_grouped = pd.merge(foreign, country_groups, left_on='place_of_origin', right_on='country', how='outer')\n",
    "del foreign_grouped['country']"
   ]
  },
  {
   "cell_type": "code",
   "execution_count": 122,
   "metadata": {},
   "outputs": [
    {
     "data": {
      "text/html": [
       "<iframe id=\"igraph\" scrolling=\"no\" style=\"border:none;\" seamless=\"seamless\" src=\"https://plot.ly/~qiweihan/246.embed\" height=\"525px\" width=\"100%\"></iframe>"
      ],
      "text/plain": [
       "<plotly.tools.PlotlyDisplay object>"
      ]
     },
     "execution_count": 122,
     "metadata": {},
     "output_type": "execute_result"
    }
   ],
   "source": [
    "# foreign_trace = Bar(\n",
    "#     x=foreign['day'],\n",
    "#     y=foreign['presence'],\n",
    "#     name = 'Estimated Presence of Foreign Visitors in Florence'\n",
    "# )\n",
    "\n",
    "# fig = go.Figure(data=go.Data([foreign_trace]))\n",
    "# py.iplot(fig, filename='cdr_presence_foreigners_timeseries', sharing='private')\n",
    "\n",
    "stacked_bar_chart(foreign_grouped, 'cdr_presence_foreigners_timeseries_old', stacks='grouping', title='Estimated Presence of Foreign Visitors in Florence per Day')"
   ]
  },
  {
   "cell_type": "code",
   "execution_count": 124,
   "metadata": {},
   "outputs": [
    {
     "data": {
      "text/html": [
       "<iframe id=\"igraph\" scrolling=\"no\" style=\"border:none;\" seamless=\"seamless\" src=\"https://plot.ly/~qiweihan/250.embed\" height=\"525px\" width=\"100%\"></iframe>"
      ],
      "text/plain": [
       "<plotly.tools.PlotlyDisplay object>"
      ]
     },
     "execution_count": 124,
     "metadata": {},
     "output_type": "execute_result"
    }
   ],
   "source": [
    "data = []\n",
    "dfs = [(foreign, 'Foreigners'), (visitor, 'Italian Visitors'), (resident, 'Residents')]\n",
    "\n",
    "for df, name in dfs:\n",
    "    final_df = df.groupby(['day'])['presence'].sum().reset_index(name='sum_presence')\n",
    "\n",
    "    trace = Bar(\n",
    "        x=final_df['day'],\n",
    "        y=final_df['sum_presence'],\n",
    "        name=name\n",
    "    )\n",
    "\n",
    "    data.append(trace)\n",
    "\n",
    "layout = go.Layout(\n",
    "    barmode='stack',\n",
    "    bargap=0,\n",
    "    title='Total Estimated Presence in Florence per Day',\n",
    "    xaxis=dict(\n",
    "        title='Date'\n",
    "    ),\n",
    "    yaxis=dict(\n",
    "        title='Total Presence',\n",
    "    )\n",
    ")\n",
    "\n",
    "fig = go.Figure(data=data, layout=layout)\n",
    "py.iplot(fig, filename='cdr_presence_total_timeseries_old', sharing='private')"
   ]
  },
  {
   "cell_type": "code",
   "execution_count": 2,
   "metadata": {},
   "outputs": [
    {
     "data": {
      "text/html": [
       "<iframe id=\"igraph\" scrolling=\"no\" style=\"border:none;\" seamless=\"seamless\" src=\"https://plot.ly/~qiweihan/445.embed\" height=\"525px\" width=\"100%\"></iframe>"
      ],
      "text/plain": [
       "<plotly.tools.PlotlyDisplay object>"
      ]
     },
     "execution_count": 2,
     "metadata": {},
     "output_type": "execute_result"
    }
   ],
   "source": [
    "layout = go.Layout(\n",
    "    title=\"Italian Length of Stay\",\n",
    "    titlefont=dict(size=24),\n",
    "    width=1200,\n",
    "    height=800,\n",
    "    xaxis=dict(\n",
    "        title='',\n",
    "        titlefont=dict(size=18),\n",
    "        # range=,\n",
    "        # nticks=,\n",
    "        ticks='outside',\n",
    "        tickfont=dict(size=16)\n",
    "    ),\n",
    "    yaxis=dict(\n",
    "        title='',\n",
    "        titlefont=dict(size=18),\n",
    "        ticks='outside',\n",
    "        tickfont=dict(size=16)\n",
    "    )\n",
    ")\n",
    "\n",
    "labels = ['1 day','2 days','3 days','4+ days']\n",
    "italian = [0.805992,0.11619,0.045552,0.032266]\n",
    "foreign = [0.596528,0.219724,0.106579,0.077169]\n",
    "joined = [0.681962,0.177503,0.081685,0.05885]\n",
    "\n",
    "trip_labels = ['1 trip', '2 trips', '3 trips', '4+ trips']\n",
    "trip_labels_fr = ['1 trip', '2 trips', '3+ trips']\n",
    "italian_trip = [0.792200, 0.140294, 0.040848, 0.026658]\n",
    "foreign_trip = [0.916953, 0.066461, 0.016586]\n",
    "\n",
    "colors = ['#D7C5BE', '#5EA1CA', '#d15c5f', '#DFD485']\n",
    "colors_lite =['#e8d9d3', '#7cbce2', '#ef7a7d', '#efe59b']\n",
    "colors_lite_fr =['#e8d9d3', '#7cbce2', '#ef7a7d']\n",
    "\n",
    "trace = go.Pie(labels=trip_labels_fr, values=foreign_trip, marker=dict(colors=colors_lite_fr), textfont=dict(size=20))\n",
    "\n",
    "py.iplot([trace], filename='foreign_number_of_trips')"
   ]
  }
 ],
 "metadata": {
  "kernelspec": {
   "display_name": "Python 2",
   "language": "python",
   "name": "python2"
  },
  "language_info": {
   "codemirror_mode": {
    "name": "ipython",
    "version": 2
   },
   "file_extension": ".py",
   "mimetype": "text/x-python",
   "name": "python",
   "nbconvert_exporter": "python",
   "pygments_lexer": "ipython2",
   "version": "2.7.13"
  }
 },
 "nbformat": 4,
 "nbformat_minor": 2
}
