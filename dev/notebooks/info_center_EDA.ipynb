{
 "cells": [
  {
   "cell_type": "code",
   "execution_count": 1,
   "metadata": {
    "collapsed": true
   },
   "outputs": [],
   "source": [
    "import pandas as pd\n",
    "import numpy as np\n",
    "import plotly\n",
    "from plotly.graph_objs import * # todo remove redundant imports\n",
    "import plotly.plotly as py\n",
    "import plotly.graph_objs as go\n",
    "from plotly import tools\n",
    "\n",
    "import sys\n",
    "sys.path.append('../../src/')\n",
    "from utils.database import dbutils\n",
    "\n",
    "connection = dbutils.connect()"
   ]
  },
  {
   "cell_type": "code",
   "execution_count": 15,
   "metadata": {
    "collapsed": true
   },
   "outputs": [],
   "source": [
    "def stacked_bar_chart(df, filename, title=''):\n",
    "    data = []\n",
    "    print(df.columns.values)\n",
    "    df['Europe'] = df['benelux'] + df['scandinavia'] + df['balkans'] + df['eastern_europe'] + df['netherlands']\n",
    "    for country in list(df.columns.values):\n",
    "        trace = Bar(\n",
    "            x=df['visit_date'],\n",
    "            y=df[country],\n",
    "            name=country\n",
    "        )\n",
    "\n",
    "        data.append(trace)\n",
    "\n",
    "    layout = go.Layout(\n",
    "        barmode='stack',\n",
    "        bargap=0,\n",
    "        title=title,\n",
    "        xaxis=dict(\n",
    "            fixedrange=True\n",
    "        ),\n",
    "        yaxis=dict(\n",
    "            title='Number of Visitors',\n",
    "            fixedrange=True\n",
    "        )\n",
    "    )\n",
    "    \n",
    "    fig = go.Figure(data=data, layout=layout)\n",
    "    return py.iplot(fig, filename=filename, sharing='private')"
   ]
  },
  {
   "cell_type": "code",
   "execution_count": 16,
   "metadata": {},
   "outputs": [
    {
     "name": "stdout",
     "output_type": "stream",
     "text": [
      "['visit_date' 'italy' 'spain_portugal' 'france' 'uk_ireland' 'netherlands'\n",
      " 'benelux' 'germany' 'scandinavia' 'poland' 'eastern_europe' 'balkans'\n",
      " 'russia' 'canada' 'usa' 'central_america' 'brasil' 'argentina'\n",
      " 'south_america' 'australia_nz' 'turkey' 'israel' 'middle_east' 'india'\n",
      " 'china' 'south_korea' 'japan' 'asia' 'south_africa' 'africa']\n"
     ]
    },
    {
     "data": {
      "text/html": [
       "<iframe id=\"igraph\" scrolling=\"no\" style=\"border:none;\" seamless=\"seamless\" src=\"https://plot.ly/~qiweihan/473.embed\" height=\"525px\" width=\"100%\"></iframe>"
      ],
      "text/plain": [
       "<plotly.tools.PlotlyDisplay object>"
      ]
     },
     "execution_count": 16,
     "metadata": {},
     "output_type": "execute_result"
    }
   ],
   "source": [
    "ae_query = \"\"\"\n",
    "SELECT * from optourism.info_center_ae_daily\n",
    "\"\"\"\n",
    "ae_center = pd.read_sql(ae_query, con=connection)\n",
    "\n",
    "stacked_bar_chart(ae_center, 'infocenter_ae_visitors_by_nationality', title=\"Total Number of Visitors to the Airport Info Center by Nationality\")"
   ]
  }
 ],
 "metadata": {
  "kernelspec": {
   "display_name": "Python 2",
   "language": "python",
   "name": "python2"
  },
  "language_info": {
   "codemirror_mode": {
    "name": "ipython",
    "version": 2
   },
   "file_extension": ".py",
   "mimetype": "text/x-python",
   "name": "python",
   "nbconvert_exporter": "python",
   "pygments_lexer": "ipython2",
   "version": "2.7.13"
  }
 },
 "nbformat": 4,
 "nbformat_minor": 2
}
