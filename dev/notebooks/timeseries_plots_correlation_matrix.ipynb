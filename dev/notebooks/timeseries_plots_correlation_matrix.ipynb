{
 "cells": [
  {
   "cell_type": "code",
   "execution_count": 39,
   "metadata": {},
   "outputs": [
    {
     "name": "stdout",
     "output_type": "stream",
     "text": [
      "The sql extension is already loaded. To reload it, use:\n",
      "  %reload_ext sql\n",
      "['Santa Croce' 'Opera del Duomo' 'Uffizi' 'Accademia' 'M. Casa Dante'\n",
      " 'M. Palazzo Vecchio' 'M. Galileo' 'M. Bargello' 'San Lorenzo'\n",
      " 'M. Archeologico' 'Cappelle Medicee' 'M. Santa Maria Novella'\n",
      " 'M. San Marco' 'Laurenziana' 'M. Innocenti' 'Palazzo Strozzi'\n",
      " 'Palazzo Medici' 'Torre di Palazzo Vecchio' 'Brancacci' 'M. Opificio'\n",
      " 'La Specola' 'Orto Botanico' 'V. Bardini' 'M. Stefano Bardini'\n",
      " 'M. Antropologia' 'M. Ebraico' 'M. Marini' 'Casa Buonarroti' 'M. Horne'\n",
      " 'M. Ferragamo' 'M. Novecento' 'M. Palazzo Davanzati' 'M. Geologia'\n",
      " 'M. Civici Fiesole' 'M. Stibbert' 'M. Mineralogia' 'M. Preistoria'\n",
      " 'M. Calcio' 'Primo Conti']\n"
     ]
    }
   ],
   "source": [
    "#### Notebook to generate FirenzeCard analysis\n",
    "#### Timeseries, and summary statistics\n",
    "import sys\n",
    "sys.path.append('../../src/')\n",
    "import warnings\n",
    "warnings.filterwarnings('ignore')\n",
    "import matplotlib.pyplot as plt\n",
    "%matplotlib inline  \n",
    "\n",
    "import psycopg2\n",
    "from features.firenzecard import *\n",
    "from utils.database import dbutils\n",
    "from IPython.core.debugger import Tracer\n",
    "\n",
    "import datetime\n",
    "import numpy as np\n",
    "import plotly.plotly as py\n",
    "import plotly.graph_objs as go\n",
    "from plotly.offline import download_plotlyjs, init_notebook_mode, plot, iplot\n",
    "from IPython.display import HTML\n",
    "\n",
    "# connect to DB and get data\n",
    "%load_ext sql\n",
    "\n",
    "connection = dbutils.connect()\n",
    "c = connection.cursor()\n",
    "\n",
    "df = pd.read_csv('firenzedata_feature_extracted.csv')\n",
    "print(df['short_name'].unique())"
   ]
  },
  {
   "cell_type": "code",
   "execution_count": 6,
   "metadata": {},
   "outputs": [
    {
     "name": "stdout",
     "output_type": "stream",
     "text": [
      "Please enter a museum name: Uffizi\n",
      "Please enter a timedelta: hour\n"
     ]
    }
   ],
   "source": [
    "# Which museum & timedelta would you like to plot?\n",
    "museum = raw_input(\"Please enter a museum name: \")\n",
    "\n",
    "# options: hour ; day_of_week ; date  (not yet full functional for date)\n",
    "timedelta = raw_input(\"Please enter a timedelta: \")"
   ]
  },
  {
   "cell_type": "code",
   "execution_count": 7,
   "metadata": {},
   "outputs": [
    {
     "data": {
      "text/html": [
       "<iframe id=\"igraph\" scrolling=\"no\" style=\"border:none;\" seamless=\"seamless\" src=\"https://plot.ly/~qiweihan/25.embed\" height=\"525px\" width=\"100%\"></iframe>"
      ],
      "text/plain": [
       "<plotly.tools.PlotlyDisplay object>"
      ]
     },
     "execution_count": 7,
     "metadata": {},
     "output_type": "execute_result"
    }
   ],
   "source": [
    "# get museum_id and timedelta_range from museum_name\n",
    "museum_id, delta_range = get_museum_id_and_time_range(df, museum, timedelta)\n",
    "\n",
    "# For the given museum, get entries over time\n",
    "df2, plot_url = get_persons_per_museum_per_timedelta(df, groupby_object='museum_id',\n",
    "                                         groupby_timedelta=timedelta, timedelta_range=delta_range,\n",
    "                                         museum_id_to_plot= museum_id, plot=True, museum_name=museum)\n",
    "\n",
    "plot_url"
   ]
  },
  {
   "cell_type": "code",
   "execution_count": 8,
   "metadata": {},
   "outputs": [
    {
     "data": {
      "text/html": [
       "<iframe id=\"igraph\" scrolling=\"no\" style=\"border:none;\" seamless=\"seamless\" src=\"https://plot.ly/~qiweihan/25.embed\" height=\"525px\" width=\"100%\"></iframe>"
      ],
      "text/plain": [
       "<plotly.tools.PlotlyDisplay object>"
      ]
     },
     "execution_count": 8,
     "metadata": {},
     "output_type": "execute_result"
    }
   ],
   "source": [
    "### Museum entries, all museums\n",
    "df2, plot_url = get_persons_per_museum_per_timedelta(df, groupby_object='museum_id',\n",
    "                                         groupby_timedelta=timedelta, timedelta_range=delta_range,\n",
    "                                         museum_id_to_plot= 'All Museums', plot=True, museum_name='All Museums')\n",
    "plot_url"
   ]
  },
  {
   "cell_type": "code",
   "execution_count": 9,
   "metadata": {},
   "outputs": [
    {
     "data": {
      "text/html": [
       "<iframe id=\"igraph\" scrolling=\"no\" style=\"border:none;\" seamless=\"seamless\" src=\"https://plot.ly/~qiweihan/30.embed\" height=\"525px\" width=\"100%\"></iframe>"
      ],
      "text/plain": [
       "<plotly.tools.PlotlyDisplay object>"
      ]
     },
     "execution_count": 9,
     "metadata": {},
     "output_type": "execute_result"
    }
   ],
   "source": [
    "x = df2['museum_id']\n",
    "y = df2[timedelta]\n",
    "z = df2.total_people_per_object_per_timedelta\n",
    "\n",
    "data2 = [\n",
    "    go.Heatmap(\n",
    "        x=x,\n",
    "        y=y,\n",
    "        z=z,\n",
    "        colorscale='Viridis',\n",
    "    )\n",
    "]\n",
    "\n",
    "layout = go.Layout(\n",
    "    title='Museums entries in time',\n",
    "    xaxis = dict(ticks='', nticks=42),\n",
    "    yaxis = dict(ticks='', nticks=22)\n",
    ")\n",
    "\n",
    "fig = go.Figure(data=data2, layout=layout)\n",
    "py.iplot(fig, filename='datetime-heatmap', sharing='private')\n",
    "#HTML('<iframe width=\"800\" height=\"600\" frameborder=\"0\" scrolling=\"no\" src=\"//plot.ly/~qiweihan/30.embed\"></iframe>')"
   ]
  },
  {
   "cell_type": "code",
   "execution_count": 42,
   "metadata": {},
   "outputs": [
    {
     "name": "stdout",
     "output_type": "stream",
     "text": [
      "<class 'plotly.tools.PlotlyDisplay'>\n"
     ]
    }
   ],
   "source": [
    "\n",
    "result = plot_activation_days(connection)\n",
    "print(type(result))"
   ]
  },
  {
   "cell_type": "code",
   "execution_count": null,
   "metadata": {
    "collapsed": true
   },
   "outputs": [],
   "source": [
    "from scipy.stats import spearmanr\n",
    "from pprint import pprint\n",
    "\n",
    "### TODO\n",
    "# Compute the correlation matrix\n",
    "def get_correlation_matrix(location_ids):\n",
    "    outer_list=[]\n",
    "    empty_hours = pd.DataFrame(index=range(24))\n",
    "    \n",
    "    for first_loc in location_ids:\n",
    "        inner_list=[]\n",
    "        first_data = get_museum_hourly(connection, first_loc)\n",
    "        \n",
    "        num_rows, num_cols = first_data.shape\n",
    "        if num_rows <= 3:\n",
    "            inner_list = [np.nan]*len(location_ids)\n",
    "            outer_list.append(inner_list)\n",
    "            continue\n",
    "            \n",
    "        first_interpolated = empty_hours.merge(first_data, 'outer', right_on='entry_hour', left_index=True)\n",
    "        first = first_interpolated['entries'].tolist()\n",
    "        \n",
    "        for second_loc in location_ids:\n",
    "            second_data = get_museum_hourly(connection, second_loc)\n",
    "            \n",
    "            num_rows, num_cols = second_data.shape\n",
    "            if num_rows <= 3:\n",
    "                inner_list.append(np.nan)\n",
    "                continue\n",
    "            \n",
    "            second_interpolated = empty_hours.merge(second_data, 'outer', right_on='entry_hour', left_index=True)\n",
    "            second = second_interpolated['entries'].tolist()\n",
    "            \n",
    "            result = spearmanr(first, second, nan_policy='omit')\n",
    "            inner_list.append(result.correlation)\n",
    "        \n",
    "        outer_list.append(inner_list)\n",
    "    \n",
    "    return outer_list\n",
    "            \n",
    "locations = get_active_firenze_locations(connection)\n",
    "location_ids = locations['museum_id'].tolist()\n",
    "\n",
    "matrix = get_correlation_matrix(location_ids)\n",
    "\n"
   ]
  },
  {
   "cell_type": "code",
   "execution_count": 36,
   "metadata": {},
   "outputs": [
    {
     "name": "stdout",
     "output_type": "stream",
     "text": [
      "Empty DataFrame\n",
      "Columns: []\n",
      "Index: [0, 1, 2, 3, 4, 5, 6, 7, 8, 9, 10, 11, 12, 13, 14, 15, 16, 17, 18, 19, 20, 21, 22, 23]\n"
     ]
    }
   ],
   "source": [
    "from scipy.stats import spearmanr\n",
    "empty_hours = pd.DataFrame(index=range(24))\n",
    "    \n",
    "first_data = get_museum_hourly(connection, 9)\n",
    "first_interpolated = empty_hours.merge(first_data, 'outer', right_on='entry_hour', left_index=True)\n",
    "first = first_interpolated['entries'].tolist()\n",
    "\n",
    "second_data = get_museum_hourly(connection, 25)\n",
    "second_interpolated = empty_hours.merge(second_data, 'outer', right_on='entry_hour', left_index=True)\n",
    "second = second_interpolated['entries'].tolist()\n",
    "\n",
    "spearmanr(first, second, nan_policy='omit')"
   ]
  },
  {
   "cell_type": "code",
   "execution_count": 38,
   "metadata": {},
   "outputs": [
    {
     "data": {
      "image/png": "[encoded data removed]",
      "text/plain": [
       "<matplotlib.figure.Figure at 0x7f0337c9a510>"
      ]
     },
     "metadata": {},
     "output_type": "display_data"
    }
   ],
   "source": [
    "\n",
    "import matplotlib.ticker as ticker\n",
    "\n",
    "fig = plt.figure(figsize=(10,10))\n",
    "ax = fig.add_subplot(111)\n",
    "cmap=plt.cm.PuBu\n",
    "cax = ax.matshow(matrix,cmap=cmap)\n",
    "fig.colorbar(cax)\n",
    "\n",
    "labels = [''] + location_ids\n",
    "ax.set_xticklabels(labels,rotation=90)\n",
    "ax.set_yticklabels(labels)\n",
    "\n",
    "ax.xaxis.set_major_locator(ticker.MultipleLocator(1))\n",
    "ax.yaxis.set_major_locator(ticker.MultipleLocator(1))\n",
    "\n",
    "plt.show()"
   ]
  },
  {
   "cell_type": "code",
   "execution_count": 46,
   "metadata": {
    "collapsed": true,
    "scrolled": true
   },
   "outputs": [],
   "source": [
    "### TODO\n",
    "# Compute the correlation matrix\n",
    "def get_correlation_matrix_daily(location_ids):\n",
    "    outer_list=[]\n",
    "    empty_days = pd.DataFrame(index=range(7))\n",
    "    \n",
    "    for first_loc in location_ids:\n",
    "        inner_list=[]\n",
    "        first_data = get_museum_daily(connection, first_loc)\n",
    "        \n",
    "        num_rows, num_cols = first_data.shape\n",
    "        if num_rows <= 3:\n",
    "            inner_list = [np.nan]*len(location_ids)\n",
    "            outer_list.append(inner_list)\n",
    "            continue\n",
    "            \n",
    "        first_interpolated = empty_days.merge(first_data, 'outer', right_on='entry_day', left_index=True)\n",
    "        first = first_interpolated['entries'].tolist()\n",
    "        \n",
    "        for second_loc in location_ids:\n",
    "            second_data = get_museum_daily(connection, second_loc)\n",
    "\n",
    "            num_rows, num_cols = second_data.shape\n",
    "            if num_rows <= 3:\n",
    "                inner_list.append(np.nan)\n",
    "                continue\n",
    "            \n",
    "            second_interpolated = empty_days.merge(second_data, 'outer', right_on='entry_day', left_index=True)\n",
    "            second = second_interpolated['entries'].tolist()\n",
    "            \n",
    "            result = spearmanr(first, second, nan_policy='omit')\n",
    "            inner_list.append(result.correlation)\n",
    "        \n",
    "        outer_list.append(inner_list)\n",
    "    \n",
    "    return outer_list\n",
    "            \n",
    "locations = get_active_firenze_locations(connection)\n",
    "location_ids = locations['museum_id'].tolist()\n",
    "\n",
    "matrix_daily = get_correlation_matrix_daily(location_ids)\n"
   ]
  },
  {
   "cell_type": "code",
   "execution_count": 54,
   "metadata": {},
   "outputs": [
    {
     "data": {
      "image/png": "[encoded data removed]",
      "text/plain": [
       "<matplotlib.figure.Figure at 0x7f28ae466650>"
      ]
     },
     "metadata": {},
     "output_type": "display_data"
    },
    {
     "name": "stdout",
     "output_type": "stream",
     "text": [
      "[34, 25, 32, 12, 8, 1, 10, 42, 26, 11, 18, 16, 3, 13, 22, 9, 24, 14, 27, 28, 17, 36, 15, 38, 30, 4, 33, 6, 40, 19, 29, 2, 21, 41, 23, 31, 35, 20, 5, 7, 37]\n"
     ]
    }
   ],
   "source": [
    "\n",
    "import matplotlib.ticker as ticker\n",
    "\n",
    "fig = plt.figure(figsize=(10,10))\n",
    "ax = fig.add_subplot(111)\n",
    "cmap=plt.cm.PuBu\n",
    "cax = ax.matshow(matrix_daily,cmap=cmap)\n",
    "fig.colorbar(cax)\n",
    "\n",
    "labels = [''] + location_ids\n",
    "ax.set_xticklabels(labels,rotation=90)\n",
    "ax.set_yticklabels(labels)\n",
    "\n",
    "ax.xaxis.set_major_locator(ticker.MultipleLocator(1))\n",
    "ax.yaxis.set_major_locator(ticker.MultipleLocator(1))\n",
    "\n",
    "plt.show()\n",
    "print(location_ids)"
   ]
  },
  {
   "cell_type": "code",
   "execution_count": 30,
   "metadata": {},
   "outputs": [
    {
     "data": {
      "text/html": [
       "<iframe id=\"igraph\" scrolling=\"no\" style=\"border:none;\" seamless=\"seamless\" src=\"https://plot.ly/~qiweihan/41.embed\" height=\"525px\" width=\"100%\"></iframe>"
      ],
      "text/plain": [
       "<plotly.tools.PlotlyDisplay object>"
      ]
     },
     "execution_count": 30,
     "metadata": {},
     "output_type": "execute_result"
    }
   ],
   "source": [
    "first = get_museum_hourly(connection, 9)\n",
    "\n",
    "def plot_museum(data):\n",
    "    data = [Bar(y=data['entries'], x=data['entry_hour'])]\n",
    "    layout = go.Layout(\n",
    "        title='Test',\n",
    "        yaxis=dict(\n",
    "            title='Entries',\n",
    "            titlefont=dict(\n",
    "                family='Courier New, monospace',\n",
    "                size=18,\n",
    "                color='#7f7f7f'\n",
    "            )\n",
    "        ),\n",
    "        xaxis=dict(\n",
    "            title='Hour',\n",
    "            titlefont=dict(\n",
    "                family='Courier New, monospace',\n",
    "                size=18,\n",
    "                color='#7f7f7f'\n",
    "            )\n",
    "        )\n",
    "    )\n",
    "\n",
    "    fig = go.Figure(data=data, layout=layout)\n",
    "    plot_url = py.iplot(fig, filename='correlation_test', sharing='private')\n",
    "    return plot_url\n",
    "\n",
    "plot_url = plot_museum(first)\n",
    "plot_url"
   ]
  },
  {
   "cell_type": "code",
   "execution_count": 31,
   "metadata": {},
   "outputs": [
    {
     "data": {
      "text/html": [
       "<iframe id=\"igraph\" scrolling=\"no\" style=\"border:none;\" seamless=\"seamless\" src=\"https://plot.ly/~qiweihan/41.embed\" height=\"525px\" width=\"100%\"></iframe>"
      ],
      "text/plain": [
       "<plotly.tools.PlotlyDisplay object>"
      ]
     },
     "execution_count": 31,
     "metadata": {},
     "output_type": "execute_result"
    }
   ],
   "source": [
    "second = get_museum_hourly(connection, 25)\n",
    "plot_url = plot_museum(second)\n",
    "plot_url"
   ]
  },
  {
   "cell_type": "code",
   "execution_count": null,
   "metadata": {
    "collapsed": true
   },
   "outputs": [],
   "source": []
  },
  {
   "cell_type": "code",
   "execution_count": 43,
   "metadata": {
    "collapsed": true
   },
   "outputs": [],
   "source": [
    "#### Summary statistic plots\n",
    "# import plotly.figure_factory as ff\n",
    "# test = df3.groupby('user_id')['time_until_next_museum']\n",
    "# data = [Bar(x = test.time_until_next_museum,\n",
    "#                 y=test.user_id)]\n",
    "# py.iplot(data, filename='time between entries', sharing='private')"
   ]
  },
  {
   "cell_type": "code",
   "execution_count": null,
   "metadata": {
    "collapsed": true
   },
   "outputs": [],
   "source": [
    "# df1 = df1.groupby('day_of_week', as_index=False)['total_people_in_museum'].sum()\n",
    "\n",
    "# trace1 = Bar(\n",
    "#     x= df1.day_of_week,\n",
    "#     y= df1.total_people_in_museum\n",
    "# )\n",
    "# trace2 = Bar(\n",
    "#     x= df2.day_of_week,\n",
    "#     y= df2.total_people_in_museum\n",
    "# )\n",
    "# trace3 = Bar(\n",
    "#     x= df3.day_of_week,\n",
    "#     y= df3.total_people_in_museum\n",
    "# )\n",
    "# trace4 = Bar(\n",
    "#     x= df4.day_of_week,\n",
    "#     y= df4.total_people_in_museum\n",
    "# )\n",
    "# trace5 = Bar(\n",
    "#     x= df5.day_of_week,\n",
    "#     y= df5.total_people_in_museum\n",
    "# )\n",
    "# trace6 = Bar(\n",
    "#     x= df6.day_of_week,\n",
    "#     y= df6.total_people_in_museum\n",
    "# )\n",
    "# trace7 = Bar(\n",
    "#     x= df7.day_of_week,\n",
    "#     y= df7.total_people_in_museum\n",
    "# )\n",
    "# trace8 = Bar(\n",
    "#     x= df8.day_of_week,\n",
    "#     y= df8.total_people_in_museum,\n",
    "#     name = ''\n",
    "# )\n",
    "\n",
    "\n",
    "# fig = tools.make_subplots(rows=8, cols=2)\n",
    "\n",
    "# fig.append_trace(trace1, 1, 1)\n",
    "# fig.append_trace(trace2, 2, 1)\n",
    "# fig.append_trace(trace3, 3, 1)\n",
    "# fig.append_trace(trace4, 4, 1)\n",
    "# fig.append_trace(trace5, 1, 2)\n",
    "# fig.append_trace(trace6, 2, 2)\n",
    "# fig.append_trace(trace7, 3, 2)\n",
    "# fig.append_trace(trace8, 4, 2)\n",
    "\n",
    "\n",
    "# fig['layout'].update(height=800, width=900, title='Stacked subplots')\n",
    "# py.iplot(fig, filename='stacked-subplots')"
   ]
  },
  {
   "cell_type": "code",
   "execution_count": null,
   "metadata": {
    "collapsed": true
   },
   "outputs": [],
   "source": [
    "#data2 = data[['museum_id', 'total_people_in_museum']]\n",
    "#data.head()\n",
    "data = data[['museum_id','total_people_in_museum']]\n",
    "data2 = data.pivot(\"museum_id\", \"total_people_in_museum\")\n",
    "data2.head()"
   ]
  },
  {
   "cell_type": "code",
   "execution_count": null,
   "metadata": {
    "collapsed": true
   },
   "outputs": [],
   "source": [
    "df.T.corr(method='spearman')"
   ]
  },
  {
   "cell_type": "code",
   "execution_count": null,
   "metadata": {
    "collapsed": true
   },
   "outputs": [],
   "source": []
  }
 ],
 "metadata": {
  "kernelspec": {
   "display_name": "Python 2",
   "language": "python",
   "name": "python2"
  },
  "language_info": {
   "codemirror_mode": {
    "name": "ipython",
    "version": 2
   },
   "file_extension": ".py",
   "mimetype": "text/x-python",
   "name": "python",
   "nbconvert_exporter": "python",
   "pygments_lexer": "ipython2",
   "version": "2.7.13"
  }
 },
 "nbformat": 4,
 "nbformat_minor": 2
}
