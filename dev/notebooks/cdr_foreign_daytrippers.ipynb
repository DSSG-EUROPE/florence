{
 "cells": [
  {
   "cell_type": "code",
   "execution_count": 20,
   "metadata": {
    "collapsed": true
   },
   "outputs": [],
   "source": [
    "import pandas as pd\n",
    "import igraph as ig\n",
    "\n",
    "def get_dwell_time_df(db_connection):\n",
    "    foreigners = pd.read_sql(\"\"\"\n",
    "    SELECT\n",
    "      cust_id,\n",
    "      prev_cust_id,\n",
    "      tower_id,\n",
    "      prev_tower_id,\n",
    "      dwell_time,\n",
    "      near_airport,\n",
    "      in_florence_comune\n",
    "    FROM optourism.foreigners_daytripper_dwell_time\n",
    "    \"\"\", con=db_connection)\n",
    "\n",
    "    foreigners['key'] = ((foreigners['tower_id'] != foreigners['prev_tower_id']) | (foreigners['cust_id'] != foreigners['prev_cust_id'])).astype(int).cumsum()\n",
    "    groups = foreigners.groupby(['cust_id', 'tower_id', 'near_airport', 'in_florence_comune', 'key'], sort=False)['dwell_time'].sum().reset_index()\n",
    "\n",
    "    transitions = groups.loc[groups['dwell_time'] >= pd.Timedelta('20 minutes')]\n",
    "    transitions['in_florence'] = transitions.apply(lambda x: (x['in_florence_comune'] | x['near_airport']), axis=1)\n",
    "    del transitions['in_florence_comune']\n",
    "    del transitions['key']\n",
    "\n",
    "    curated = transitions.loc[(transitions['in_florence'] == True) |\n",
    "                              ((transitions['cust_id'] == transitions['cust_id'].shift(1)) &\n",
    "                               (transitions['in_florence'] != transitions['in_florence'].shift(1))) |\n",
    "                              ((transitions['cust_id'] == transitions['cust_id'].shift(-1)) &\n",
    "                              (transitions['in_florence'] != transitions['in_florence'].shift(-1)))]\n",
    "    return curated"
   ]
  },
  {
   "cell_type": "code",
   "execution_count": 10,
   "metadata": {},
   "outputs": [
    {
     "name": "stdout",
     "output_type": "stream",
     "text": [
      "<connection object at 0x7fe124369050; dsn: 'host=db.dssg.io password=xxxxxxxxxxxxx user=optourism_db dbname=optourism port=5432', closed: 0>\n"
     ]
    }
   ],
   "source": [
    "import sys\n",
    "sys.path.append('../../src/')\n",
    "from utils.database import dbutils\n",
    "\n",
    "connection = dbutils.connect()"
   ]
  },
  {
   "cell_type": "code",
   "execution_count": 24,
   "metadata": {
    "collapsed": true
   },
   "outputs": [],
   "source": [
    "tower_vertices = pd.read_sql(\"\"\"\n",
    "    SELECT DISTINCT cdr.tower_id, cdr.lat, cdr.lon, towers.region_name\n",
    "    FROM optourism.foreigners_daytripper_dwell_time as cdr\n",
    "    JOIN optourism.cdr_labeled_towers as towers\n",
    "    ON towers.id = cdr.tower_id\n",
    "\"\"\", con=connection)\n",
    "\n",
    "# tower_vertices['tower_id'] = tower_vertices['tower_id'].apply(\n",
    "#     lambda x: 'tower-%s' % x)"
   ]
  },
  {
   "cell_type": "code",
   "execution_count": 23,
   "metadata": {},
   "outputs": [
    {
     "name": "stderr",
     "output_type": "stream",
     "text": [
      "/home/clozano/.conda/envs/SpatialEnv2.7/lib/python2.7/site-packages/ipykernel_launcher.py:21: SettingWithCopyWarning: \n",
      "A value is trying to be set on a copy of a slice from a DataFrame.\n",
      "Try using .loc[row_indexer,col_indexer] = value instead\n",
      "\n",
      "See the caveats in the documentation: http://pandas.pydata.org/pandas-docs/stable/indexing.html#indexing-view-versus-copy\n"
     ]
    }
   ],
   "source": [
    "foreigners = get_dwell_time_df(connection)\n",
    "# foreigners['tower_id'] = foreigners['tower_id'].apply(\n",
    "#     lambda x: 'tower-%s' % x)\n",
    "\n"
   ]
  },
  {
   "cell_type": "code",
   "execution_count": 25,
   "metadata": {
    "collapsed": true
   },
   "outputs": [],
   "source": [
    "foreigners['tower_region'] = foreigners.apply(lambda x: tower_vertices.loc[tower_vertices['tower_id'] == x['tower_id']].iloc[0]['region_name'] if x['in_florence'] == False else x['tower_id'], axis=1)\n",
    "\n",
    "\n",
    "\n"
   ]
  },
  {
   "cell_type": "code",
   "execution_count": 39,
   "metadata": {
    "collapsed": true
   },
   "outputs": [],
   "source": [
    "def get_most_common_location(dataframe):\n",
    "    grouped = dataframe.groupby(['tower_region']).count().reset_index()\n",
    "    grouped.rename(columns={'dwell_time': 'weight'}, inplace=True)\n",
    "    grouped = grouped.sort_values('weight', ascending=False)\n",
    "\n",
    "    return grouped.filter(['tower_region', 'weight'], axis=1)\n",
    "    "
   ]
  },
  {
   "cell_type": "code",
   "execution_count": 41,
   "metadata": {},
   "outputs": [
    {
     "name": "stdout",
     "output_type": "stream",
     "text": [
      "           tower_region  weight\n",
      "84              Toscana    3529\n",
      "77                Lazio     616\n",
      "75       Emilia-Romagna     424\n",
      "44                   55     297\n",
      "87               Veneto     294\n",
      "37                   47     202\n",
      "1                     2     190\n",
      "21                   27     166\n",
      "78              Liguria     165\n",
      "15                   20     146\n",
      "86               Umbria     145\n",
      "79            Lombardia     137\n",
      "8                     9     129\n",
      "34                   43     121\n",
      "32                   40     119\n",
      "23                   29      81\n",
      "68                   82      73\n",
      "46                   58      69\n",
      "63                   77      60\n",
      "25                   31      54\n",
      "70                   84      43\n",
      "67                   81      39\n",
      "16                   21      36\n",
      "74             Campania      34\n",
      "58                   72      22\n",
      "53                   66      20\n",
      "0                     1      20\n",
      "81             Piemonte      18\n",
      "45                   56      16\n",
      "14                   17      14\n",
      "60                   74      12\n",
      "5                     6      11\n",
      "85  Trentino-Alto Adige      11\n",
      "54                   67      10\n",
      "49                   62      10\n",
      "31                   39      10\n",
      "7                     8       9\n",
      "19                   25       9\n",
      "80               Marche       8\n",
      "55                   69       8\n",
      "             tower_region  weight\n",
      "89                Toscana    3419\n",
      "81                  Lazio     597\n",
      "79         Emilia-Romagna     493\n",
      "92                 Veneto     307\n",
      "47                     55     275\n",
      "41                     47     191\n",
      "16                     20     169\n",
      "82                Liguria     163\n",
      "22                     27     159\n",
      "34                     40     153\n",
      "1                       2     145\n",
      "83              Lombardia     134\n",
      "91                 Umbria     127\n",
      "37                     43     112\n",
      "71                     82      97\n",
      "8                       9      85\n",
      "49                     58      73\n",
      "70                     81      72\n",
      "24                     29      63\n",
      "67                     77      57\n",
      "0                       1      55\n",
      "26                     31      44\n",
      "73                     84      37\n",
      "78               Campania      33\n",
      "17                     21      27\n",
      "80  Friuli Venezia Giulia      26\n",
      "56                     66      24\n",
      "14                     17      23\n",
      "85               Piemonte      23\n",
      "33                     39      20\n",
      "48                     56      20\n",
      "62                     72      19\n",
      "20                     25      16\n",
      "5                       6      15\n",
      "53                     62      13\n",
      "90    Trentino-Alto Adige      13\n",
      "25                     30      12\n",
      "32                     38      12\n",
      "84                 Marche      11\n",
      "44                     52      11\n"
     ]
    }
   ],
   "source": [
    "# foreigners['tower_id'] = foreigners['tower_id'].apply(\n",
    "#     lambda x: 'tower-%s' % x)\n",
    "\n",
    "#filtered_0 = foreigners.loc[foreigners['in_florence'] == True]\n",
    "filtered_0 = foreigners\n",
    "filtered_0['prev_tower_id'] = filtered_0['tower_id'].shift(1)\n",
    "filtered_0.loc[(filtered_0['cust_id'] != filtered_0['cust_id'].shift(1)), 'prev_tower_id'] = 'source'\n",
    "filtered = filtered_0.loc[filtered_0['prev_tower_id'] != 'source']\n",
    "\n",
    "\n",
    "ending = filtered_0.groupby(['cust_id']).last()\n",
    "most_common_end_nodes = get_most_common_location(ending)\n",
    "print(most_common_end_nodes.head(40))\n",
    "\n",
    "beginning = filtered_0.groupby(['cust_id']).first()\n",
    "most_common_start_nodes = get_most_common_location(beginning)\n",
    "print(most_common_start_nodes.head(40))\n",
    "\n",
    "grouping = filtered.groupby(['tower_id', 'prev_tower_id']).count().reset_index()\n",
    "grouping.rename(columns={'cust_id': 'weight'}, inplace=True)\n",
    "del grouping['near_airport']\n",
    "del grouping['dwell_time']\n",
    "\n",
    "# graph = ig.Graph()\n",
    "\n",
    "# #print(tower_vertices)\n",
    "# graph.add_vertices(tower_vertices.shape[0])\n",
    "# graph.vs['name'] = tower_vertices['tower_id']\n",
    "# graph.vs['x'] = tower_vertices['lat']\n",
    "# graph.vs['y'] = tower_vertices['lon']\n",
    "\n",
    "# edges = zip(grouping['prev_tower_id'], grouping['tower_id'])\n",
    "# graph.add_edges(edges)\n",
    "# graph.es['weight'] = grouping['weight']\n",
    "# graph.es.select(weight_lt=20).delete()\n",
    "\n",
    "# visual_style = {'vertex_color': 'black',\n",
    "#                 'vertex_size': 3,\n",
    "#                 'edge_width': [.002 * i for i in\n",
    "#                                graph.es[\"weight\"]]}\n",
    "\n",
    "# ig.plot(graph, bbox=(800, 800), **visual_style)"
   ]
  },
  {
   "cell_type": "code",
   "execution_count": null,
   "metadata": {
    "collapsed": true
   },
   "outputs": [],
   "source": [
    "# "
   ]
  }
 ],
 "metadata": {
  "kernelspec": {
   "display_name": "Python 2",
   "language": "python",
   "name": "python2"
  },
  "language_info": {
   "codemirror_mode": {
    "name": "ipython",
    "version": 2
   },
   "file_extension": ".py",
   "mimetype": "text/x-python",
   "name": "python",
   "nbconvert_exporter": "python",
   "pygments_lexer": "ipython2",
   "version": "2.7.13"
  }
 },
 "nbformat": 4,
 "nbformat_minor": 2
}
