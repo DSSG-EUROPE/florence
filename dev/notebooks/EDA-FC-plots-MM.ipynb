{
 "cells": [
  {
   "cell_type": "code",
   "execution_count": 1,
   "metadata": {
    "collapsed": true
   },
   "outputs": [],
   "source": [
    "#### Notebook to generate FirenzeCard analysis\n",
    "#### Timeseries, and summary statistics\n",
    "import sys\n",
    "sys.path.append('../src/')\n",
    "import warnings\n",
    "warnings.filterwarnings('ignore')\n",
    "import matplotlib.pyplot as plt\n",
    "%matplotlib inline  \n",
    "import psycopg2\n",
    "from features.firenzecard import *\n",
    "from IPython.core.debugger import Tracer\n",
    "\n",
    "from scipy.stats import norm\n",
    "from sklearn.neighbors import KernelDensity"
   ]
  },
  {
   "cell_type": "code",
   "execution_count": 26,
   "metadata": {
    "collapsed": true
   },
   "outputs": [],
   "source": [
    "def frequency(dataframe,columnname):\n",
    "    \"\"\"\n",
    "    :param dataframe: a pandas dataframe\n",
    "    :param columnname: a single column, with discrete (including integer) values\n",
    "    :return: a frequency table, suitable for plotting the empirical PMF, empirical CDF, or empirical CCDF\n",
    "    \"\"\"\n",
    "    out = dataframe[columnname].value_counts().to_frame()\n",
    "    out.columns = ['frequency']\n",
    "    out.index.name = columnname\n",
    "    out.reset_index(inplace=True)\n",
    "    out.sort_values('frequency',inplace=True,ascending=False)\n",
    "    out['cumulative'] = out['frequency'].cumsum()/out['frequency'].sum()\n",
    "    out['ccdf'] = 1 - out['cumulative']\n",
    "    return out\n"
   ]
  },
  {
   "cell_type": "code",
   "execution_count": 24,
   "metadata": {},
   "outputs": [
    {
     "data": {
      "text/plain": [
       "Index([u'user_id', u'museum_id', u'entrances_per_card_per_museum',\n",
       "       u'museum_name', u'longitude', u'latitude', u'short_name', u'string',\n",
       "       u'entry_time', u'adults_first_use', u'adults_reuse', u'total_adults',\n",
       "       u'minors', u'time', u'date', u'hour', u'day_of_week', u'total_people',\n",
       "       u'time_since_previous_museum', u'total_duration_card_use',\n",
       "       u'entry_is_adult', u'is_card_with_minors', u'is_in_museum_1',\n",
       "       u'is_in_museum_2', u'is_in_museum_3', u'is_in_museum_4',\n",
       "       u'is_in_museum_5', u'is_in_museum_6', u'is_in_museum_7',\n",
       "       u'is_in_museum_8', u'is_in_museum_9', u'is_in_museum_10',\n",
       "       u'is_in_museum_11', u'is_in_museum_12', u'is_in_museum_13',\n",
       "       u'is_in_museum_14', u'is_in_museum_15', u'is_in_museum_16',\n",
       "       u'is_in_museum_17', u'is_in_museum_18', u'is_in_museum_19',\n",
       "       u'is_in_museum_20', u'is_in_museum_21', u'is_in_museum_22',\n",
       "       u'is_in_museum_23', u'is_in_museum_24', u'is_in_museum_25',\n",
       "       u'is_in_museum_26', u'is_in_museum_27', u'is_in_museum_28',\n",
       "       u'is_in_museum_29', u'is_in_museum_30', u'is_in_museum_31',\n",
       "       u'is_in_museum_32', u'is_in_museum_33', u'is_in_museum_34',\n",
       "       u'is_in_museum_35', u'is_in_museum_36', u'is_in_museum_37',\n",
       "       u'is_in_museum_38', u'is_in_museum_39'],\n",
       "      dtype='object')"
      ]
     },
     "execution_count": 24,
     "metadata": {},
     "output_type": "execute_result"
    }
   ],
   "source": [
    "df = pd.read_csv('../src/output/firenzedata_feature_extracted.csv')\n",
    "df.columns"
   ]
  },
  {
   "cell_type": "code",
   "execution_count": 10,
   "metadata": {
    "collapsed": true
   },
   "outputs": [],
   "source": [
    "df1 = df.groupby(['user_id','entry_time']).agg({'time_since_previous_museum':'max', 'total_adults':'sum', 'total_people':'sum', 'museum_id':'max'})\n",
    "# df1 = df.groupby(['user_id','entry_time','museum_id']).agg({'time_until_next_museum':['min','max'], 'total_adults':['sum'], 'total_people':['sum']})\n",
    "df1.dropna(how=\"any\",inplace=True)\n",
    "df1 = df1[df1['time_since_previous_museum']>0]\n",
    "df1.reset_index(inplace=True)\n",
    "# df1[df1.time_until_next_museum['min']!=df1.time_until_next_museum['max']] # All have minors"
   ]
  },
  {
   "cell_type": "code",
   "execution_count": 11,
   "metadata": {},
   "outputs": [
    {
     "data": {
      "text/html": [
       "<div>\n",
       "<style>\n",
       "    .dataframe thead tr:only-child th {\n",
       "        text-align: right;\n",
       "    }\n",
       "\n",
       "    .dataframe thead th {\n",
       "        text-align: left;\n",
       "    }\n",
       "\n",
       "    .dataframe tbody tr th {\n",
       "        vertical-align: top;\n",
       "    }\n",
       "</style>\n",
       "<table border=\"1\" class=\"dataframe\">\n",
       "  <thead>\n",
       "    <tr style=\"text-align: right;\">\n",
       "      <th></th>\n",
       "      <th>user_id</th>\n",
       "      <th>entry_time</th>\n",
       "      <th>total_people</th>\n",
       "      <th>time_since_previous_museum</th>\n",
       "      <th>total_adults</th>\n",
       "      <th>museum_id</th>\n",
       "    </tr>\n",
       "  </thead>\n",
       "  <tbody>\n",
       "    <tr>\n",
       "      <th>0</th>\n",
       "      <td>1459702</td>\n",
       "      <td>2016-06-22 14:26:00</td>\n",
       "      <td>1</td>\n",
       "      <td>4.36667</td>\n",
       "      <td>1</td>\n",
       "      <td>15</td>\n",
       "    </tr>\n",
       "    <tr>\n",
       "      <th>1</th>\n",
       "      <td>1459702</td>\n",
       "      <td>2016-06-22 15:49:00</td>\n",
       "      <td>1</td>\n",
       "      <td>1.38333</td>\n",
       "      <td>1</td>\n",
       "      <td>11</td>\n",
       "    </tr>\n",
       "    <tr>\n",
       "      <th>2</th>\n",
       "      <td>1459702</td>\n",
       "      <td>2016-06-23 09:43:00</td>\n",
       "      <td>1</td>\n",
       "      <td>17.9</td>\n",
       "      <td>1</td>\n",
       "      <td>3</td>\n",
       "    </tr>\n",
       "    <tr>\n",
       "      <th>3</th>\n",
       "      <td>1459702</td>\n",
       "      <td>2016-06-23 11:14:00</td>\n",
       "      <td>1</td>\n",
       "      <td>1.51667</td>\n",
       "      <td>1</td>\n",
       "      <td>29</td>\n",
       "    </tr>\n",
       "    <tr>\n",
       "      <th>4</th>\n",
       "      <td>1459702</td>\n",
       "      <td>2016-06-23 12:57:00</td>\n",
       "      <td>1</td>\n",
       "      <td>1.71667</td>\n",
       "      <td>1</td>\n",
       "      <td>23</td>\n",
       "    </tr>\n",
       "  </tbody>\n",
       "</table>\n",
       "</div>"
      ],
      "text/plain": [
       "   user_id           entry_time  total_people time_since_previous_museum  \\\n",
       "0  1459702  2016-06-22 14:26:00             1                    4.36667   \n",
       "1  1459702  2016-06-22 15:49:00             1                    1.38333   \n",
       "2  1459702  2016-06-23 09:43:00             1                       17.9   \n",
       "3  1459702  2016-06-23 11:14:00             1                    1.51667   \n",
       "4  1459702  2016-06-23 12:57:00             1                    1.71667   \n",
       "\n",
       "   total_adults  museum_id  \n",
       "0             1         15  \n",
       "1             1         11  \n",
       "2             1          3  \n",
       "3             1         29  \n",
       "4             1         23  "
      ]
     },
     "execution_count": 11,
     "metadata": {},
     "output_type": "execute_result"
    }
   ],
   "source": [
    "df1.head()"
   ]
  },
  {
   "cell_type": "code",
   "execution_count": 12,
   "metadata": {
    "scrolled": false
   },
   "outputs": [
    {
     "data": {
      "text/html": [
       "<div>\n",
       "<style>\n",
       "    .dataframe thead tr:only-child th {\n",
       "        text-align: right;\n",
       "    }\n",
       "\n",
       "    .dataframe thead th {\n",
       "        text-align: left;\n",
       "    }\n",
       "\n",
       "    .dataframe tbody tr th {\n",
       "        vertical-align: top;\n",
       "    }\n",
       "</style>\n",
       "<table border=\"1\" class=\"dataframe\">\n",
       "  <thead>\n",
       "    <tr style=\"text-align: right;\">\n",
       "      <th></th>\n",
       "      <th>user_id</th>\n",
       "      <th>entry_time</th>\n",
       "      <th>total_people</th>\n",
       "      <th>time_since_previous_museum</th>\n",
       "      <th>total_adults</th>\n",
       "      <th>museum_id</th>\n",
       "    </tr>\n",
       "  </thead>\n",
       "  <tbody>\n",
       "    <tr>\n",
       "      <th>26</th>\n",
       "      <td>1473906</td>\n",
       "      <td>2016-07-24 11:58:00</td>\n",
       "      <td>2</td>\n",
       "      <td>1.16667</td>\n",
       "      <td>1</td>\n",
       "      <td>25</td>\n",
       "    </tr>\n",
       "    <tr>\n",
       "      <th>76</th>\n",
       "      <td>2017453</td>\n",
       "      <td>2016-06-17 20:04:00</td>\n",
       "      <td>2</td>\n",
       "      <td>0.783333</td>\n",
       "      <td>1</td>\n",
       "      <td>41</td>\n",
       "    </tr>\n",
       "    <tr>\n",
       "      <th>189</th>\n",
       "      <td>2017468</td>\n",
       "      <td>2016-06-16 12:00:00</td>\n",
       "      <td>3</td>\n",
       "      <td>1.23333</td>\n",
       "      <td>1</td>\n",
       "      <td>37</td>\n",
       "    </tr>\n",
       "    <tr>\n",
       "      <th>190</th>\n",
       "      <td>2017468</td>\n",
       "      <td>2016-06-16 12:56:00</td>\n",
       "      <td>3</td>\n",
       "      <td>0.933333</td>\n",
       "      <td>1</td>\n",
       "      <td>11</td>\n",
       "    </tr>\n",
       "    <tr>\n",
       "      <th>191</th>\n",
       "      <td>2017468</td>\n",
       "      <td>2016-06-17 12:34:00</td>\n",
       "      <td>3</td>\n",
       "      <td>23.6333</td>\n",
       "      <td>1</td>\n",
       "      <td>38</td>\n",
       "    </tr>\n",
       "    <tr>\n",
       "      <th>192</th>\n",
       "      <td>2017468</td>\n",
       "      <td>2016-06-18 10:45:00</td>\n",
       "      <td>3</td>\n",
       "      <td>22.1833</td>\n",
       "      <td>1</td>\n",
       "      <td>10</td>\n",
       "    </tr>\n",
       "    <tr>\n",
       "      <th>193</th>\n",
       "      <td>2017468</td>\n",
       "      <td>2016-06-18 13:17:00</td>\n",
       "      <td>3</td>\n",
       "      <td>2.53333</td>\n",
       "      <td>1</td>\n",
       "      <td>23</td>\n",
       "    </tr>\n",
       "    <tr>\n",
       "      <th>194</th>\n",
       "      <td>2017468</td>\n",
       "      <td>2016-06-18 14:58:00</td>\n",
       "      <td>3</td>\n",
       "      <td>1.68333</td>\n",
       "      <td>1</td>\n",
       "      <td>41</td>\n",
       "    </tr>\n",
       "    <tr>\n",
       "      <th>195</th>\n",
       "      <td>2017468</td>\n",
       "      <td>2016-06-18 15:56:00</td>\n",
       "      <td>3</td>\n",
       "      <td>0.966667</td>\n",
       "      <td>1</td>\n",
       "      <td>29</td>\n",
       "    </tr>\n",
       "    <tr>\n",
       "      <th>198</th>\n",
       "      <td>2017470</td>\n",
       "      <td>2016-06-16 12:07:00</td>\n",
       "      <td>3</td>\n",
       "      <td>2.43333</td>\n",
       "      <td>1</td>\n",
       "      <td>3</td>\n",
       "    </tr>\n",
       "    <tr>\n",
       "      <th>199</th>\n",
       "      <td>2017470</td>\n",
       "      <td>2016-06-16 14:19:00</td>\n",
       "      <td>3</td>\n",
       "      <td>2.2</td>\n",
       "      <td>1</td>\n",
       "      <td>11</td>\n",
       "    </tr>\n",
       "    <tr>\n",
       "      <th>260</th>\n",
       "      <td>2017487</td>\n",
       "      <td>2016-06-14 14:04:00</td>\n",
       "      <td>3</td>\n",
       "      <td>1.83333</td>\n",
       "      <td>1</td>\n",
       "      <td>32</td>\n",
       "    </tr>\n",
       "    <tr>\n",
       "      <th>261</th>\n",
       "      <td>2017487</td>\n",
       "      <td>2016-06-14 21:35:00</td>\n",
       "      <td>3</td>\n",
       "      <td>7.51667</td>\n",
       "      <td>1</td>\n",
       "      <td>23</td>\n",
       "    </tr>\n",
       "    <tr>\n",
       "      <th>262</th>\n",
       "      <td>2017487</td>\n",
       "      <td>2016-06-15 11:26:00</td>\n",
       "      <td>3</td>\n",
       "      <td>13.85</td>\n",
       "      <td>1</td>\n",
       "      <td>10</td>\n",
       "    </tr>\n",
       "    <tr>\n",
       "      <th>263</th>\n",
       "      <td>2017487</td>\n",
       "      <td>2016-06-15 13:13:00</td>\n",
       "      <td>3</td>\n",
       "      <td>1.78333</td>\n",
       "      <td>1</td>\n",
       "      <td>3</td>\n",
       "    </tr>\n",
       "    <tr>\n",
       "      <th>264</th>\n",
       "      <td>2017487</td>\n",
       "      <td>2016-06-15 16:10:00</td>\n",
       "      <td>3</td>\n",
       "      <td>2.95</td>\n",
       "      <td>1</td>\n",
       "      <td>11</td>\n",
       "    </tr>\n",
       "    <tr>\n",
       "      <th>270</th>\n",
       "      <td>2017489</td>\n",
       "      <td>2016-06-15 13:46:00</td>\n",
       "      <td>2</td>\n",
       "      <td>25.7167</td>\n",
       "      <td>1</td>\n",
       "      <td>29</td>\n",
       "    </tr>\n",
       "    <tr>\n",
       "      <th>317</th>\n",
       "      <td>2017800</td>\n",
       "      <td>2016-06-20 14:22:00</td>\n",
       "      <td>2</td>\n",
       "      <td>21.5</td>\n",
       "      <td>1</td>\n",
       "      <td>3</td>\n",
       "    </tr>\n",
       "    <tr>\n",
       "      <th>433</th>\n",
       "      <td>2017818</td>\n",
       "      <td>2016-06-24 10:58:00</td>\n",
       "      <td>3</td>\n",
       "      <td>22.6667</td>\n",
       "      <td>1</td>\n",
       "      <td>38</td>\n",
       "    </tr>\n",
       "    <tr>\n",
       "      <th>453</th>\n",
       "      <td>2017821</td>\n",
       "      <td>2016-06-22 14:33:00</td>\n",
       "      <td>2</td>\n",
       "      <td>2.23333</td>\n",
       "      <td>1</td>\n",
       "      <td>29</td>\n",
       "    </tr>\n",
       "  </tbody>\n",
       "</table>\n",
       "</div>"
      ],
      "text/plain": [
       "     user_id           entry_time  total_people time_since_previous_museum  \\\n",
       "26   1473906  2016-07-24 11:58:00             2                    1.16667   \n",
       "76   2017453  2016-06-17 20:04:00             2                   0.783333   \n",
       "189  2017468  2016-06-16 12:00:00             3                    1.23333   \n",
       "190  2017468  2016-06-16 12:56:00             3                   0.933333   \n",
       "191  2017468  2016-06-17 12:34:00             3                    23.6333   \n",
       "192  2017468  2016-06-18 10:45:00             3                    22.1833   \n",
       "193  2017468  2016-06-18 13:17:00             3                    2.53333   \n",
       "194  2017468  2016-06-18 14:58:00             3                    1.68333   \n",
       "195  2017468  2016-06-18 15:56:00             3                   0.966667   \n",
       "198  2017470  2016-06-16 12:07:00             3                    2.43333   \n",
       "199  2017470  2016-06-16 14:19:00             3                        2.2   \n",
       "260  2017487  2016-06-14 14:04:00             3                    1.83333   \n",
       "261  2017487  2016-06-14 21:35:00             3                    7.51667   \n",
       "262  2017487  2016-06-15 11:26:00             3                      13.85   \n",
       "263  2017487  2016-06-15 13:13:00             3                    1.78333   \n",
       "264  2017487  2016-06-15 16:10:00             3                       2.95   \n",
       "270  2017489  2016-06-15 13:46:00             2                    25.7167   \n",
       "317  2017800  2016-06-20 14:22:00             2                       21.5   \n",
       "433  2017818  2016-06-24 10:58:00             3                    22.6667   \n",
       "453  2017821  2016-06-22 14:33:00             2                    2.23333   \n",
       "\n",
       "     total_adults  museum_id  \n",
       "26              1         25  \n",
       "76              1         41  \n",
       "189             1         37  \n",
       "190             1         11  \n",
       "191             1         38  \n",
       "192             1         10  \n",
       "193             1         23  \n",
       "194             1         41  \n",
       "195             1         29  \n",
       "198             1          3  \n",
       "199             1         11  \n",
       "260             1         32  \n",
       "261             1         23  \n",
       "262             1         10  \n",
       "263             1          3  \n",
       "264             1         11  \n",
       "270             1         29  \n",
       "317             1          3  \n",
       "433             1         38  \n",
       "453             1         29  "
      ]
     },
     "execution_count": 12,
     "metadata": {},
     "output_type": "execute_result"
    }
   ],
   "source": [
    "df1[df1.total_people>1].head(20)"
   ]
  },
  {
   "cell_type": "code",
   "execution_count": 13,
   "metadata": {
    "collapsed": true
   },
   "outputs": [],
   "source": [
    "# df[(df['user_id']==2017470)].sort_values('entry_time')"
   ]
  },
  {
   "cell_type": "code",
   "execution_count": 14,
   "metadata": {},
   "outputs": [
    {
     "data": {
      "text/plain": [
       "0    4.36667\n",
       "1    1.38333\n",
       "2       17.9\n",
       "3    1.51667\n",
       "4    1.71667\n",
       "Name: time_since_previous_museum, dtype: object"
      ]
     },
     "execution_count": 14,
     "metadata": {},
     "output_type": "execute_result"
    }
   ],
   "source": [
    "x1 = df1.loc[np.repeat(df1.index.values,df1['total_people'])]['time_since_previous_museum']\n",
    "x1.head()"
   ]
  },
  {
   "cell_type": "code",
   "execution_count": 15,
   "metadata": {
    "collapsed": true
   },
   "outputs": [],
   "source": [
    "x2 = df1['time_since_previous_museum']"
   ]
  },
  {
   "cell_type": "code",
   "execution_count": 16,
   "metadata": {},
   "outputs": [
    {
     "data": {
      "text/plain": [
       "(309330, 6)"
      ]
     },
     "execution_count": 16,
     "metadata": {},
     "output_type": "execute_result"
    }
   ],
   "source": [
    "df1.shape"
   ]
  },
  {
   "cell_type": "code",
   "execution_count": 17,
   "metadata": {},
   "outputs": [
    {
     "data": {
      "text/plain": [
       "(340810,)"
      ]
     },
     "execution_count": 17,
     "metadata": {},
     "output_type": "execute_result"
    }
   ],
   "source": [
    "x1.shape"
   ]
  },
  {
   "cell_type": "code",
   "execution_count": 18,
   "metadata": {},
   "outputs": [
    {
     "data": {
      "text/plain": [
       "(309330,)"
      ]
     },
     "execution_count": 18,
     "metadata": {},
     "output_type": "execute_result"
    }
   ],
   "source": [
    "x2.shape"
   ]
  },
  {
   "cell_type": "code",
   "execution_count": 28,
   "metadata": {},
   "outputs": [
    {
     "data": {
      "text/html": [
       "<iframe id=\"igraph\" scrolling=\"no\" style=\"border:none;\" seamless=\"seamless\" src=\"https://plot.ly/~qiweihan/122.embed\" height=\"800px\" width=\"1200px\"></iframe>"
      ],
      "text/plain": [
       "<plotly.tools.PlotlyDisplay object>"
      ]
     },
     "execution_count": 28,
     "metadata": {},
     "output_type": "execute_result"
    }
   ],
   "source": [
    "# time_until_next_museum\n",
    "trace1 = go.Histogram(x=x1, \n",
    "                     xbins=dict(start=np.min(x1), \n",
    "                                size=0.25, end=np.max(x1)), \n",
    "                     marker=dict(color='#CC171D'), \n",
    "                     name='Firenze Cards'\n",
    "                    )\n",
    "trace2 = go.Histogram(x=x2, \n",
    "                     xbins=dict(start=np.min(x2), \n",
    "                                size=0.25, end=np.max(x2)), \n",
    "                     marker=dict(color='#1789CC'), \n",
    "                     name='Total People on Visit'\n",
    "                    )\n",
    "\n",
    "layout = go.Layout(\n",
    "    title=\"Time Between Museum Visits\",\n",
    "    titlefont=dict(size=28),\n",
    "    barmode='stack',\n",
    "    legend=dict(\n",
    "        x=0.8,\n",
    "        y=0.9,\n",
    "        traceorder='normal',\n",
    "        font=dict(\n",
    "            family='sans-serif',\n",
    "            size=16,\n",
    "            color='#000'\n",
    "        ),\n",
    "        bgcolor='#FFFFFF',\n",
    "        bordercolor='#E2E2E2',\n",
    "        borderwidth=2\n",
    "    ),\n",
    "    width=1200,\n",
    "    height=800,\n",
    "    xaxis=dict(\n",
    "        title='Time Gap in Hours (15 minute bins)',\n",
    "        titlefont=dict(size=20),\n",
    "        nticks=32,\n",
    "        ticks='outside',\n",
    "        tickfont=dict(size=16)\n",
    "    ),\n",
    "    yaxis=dict(\n",
    "        title='Number of People-Visits with Given Time Gap',\n",
    "        titlefont=dict(size=20),\n",
    "        ticks='outside',\n",
    "        tickfont=dict(size=16)\n",
    "    )\n",
    ")\n",
    "fig = go.Figure(data=go.Data([trace1,trace2]), layout=layout)\n",
    "py.iplot(fig, filename='TUNME', sharing='private', auto_open=False)"
   ]
  },
  {
   "cell_type": "code",
   "execution_count": 185,
   "metadata": {},
   "outputs": [
    {
     "data": {
      "text/html": [
       "<div>\n",
       "<style>\n",
       "    .dataframe thead tr:only-child th {\n",
       "        text-align: right;\n",
       "    }\n",
       "\n",
       "    .dataframe thead th {\n",
       "        text-align: left;\n",
       "    }\n",
       "\n",
       "    .dataframe tbody tr th {\n",
       "        vertical-align: top;\n",
       "    }\n",
       "</style>\n",
       "<table border=\"1\" class=\"dataframe\">\n",
       "  <thead>\n",
       "    <tr style=\"text-align: right;\">\n",
       "      <th></th>\n",
       "      <th>total_people</th>\n",
       "      <th>frequency</th>\n",
       "      <th>cumulative</th>\n",
       "      <th>ccdf</th>\n",
       "    </tr>\n",
       "  </thead>\n",
       "  <tbody>\n",
       "    <tr>\n",
       "      <th>0</th>\n",
       "      <td>1</td>\n",
       "      <td>333331</td>\n",
       "      <td>0.924974</td>\n",
       "      <td>0.075026</td>\n",
       "    </tr>\n",
       "    <tr>\n",
       "      <th>1</th>\n",
       "      <td>2</td>\n",
       "      <td>19464</td>\n",
       "      <td>0.978985</td>\n",
       "      <td>0.021015</td>\n",
       "    </tr>\n",
       "    <tr>\n",
       "      <th>2</th>\n",
       "      <td>3</td>\n",
       "      <td>5909</td>\n",
       "      <td>0.995382</td>\n",
       "      <td>0.004618</td>\n",
       "    </tr>\n",
       "    <tr>\n",
       "      <th>3</th>\n",
       "      <td>4</td>\n",
       "      <td>1512</td>\n",
       "      <td>0.999578</td>\n",
       "      <td>0.000422</td>\n",
       "    </tr>\n",
       "    <tr>\n",
       "      <th>4</th>\n",
       "      <td>5</td>\n",
       "      <td>111</td>\n",
       "      <td>0.999886</td>\n",
       "      <td>0.000114</td>\n",
       "    </tr>\n",
       "    <tr>\n",
       "      <th>5</th>\n",
       "      <td>6</td>\n",
       "      <td>19</td>\n",
       "      <td>0.999939</td>\n",
       "      <td>0.000061</td>\n",
       "    </tr>\n",
       "    <tr>\n",
       "      <th>6</th>\n",
       "      <td>7</td>\n",
       "      <td>7</td>\n",
       "      <td>0.999958</td>\n",
       "      <td>0.000042</td>\n",
       "    </tr>\n",
       "    <tr>\n",
       "      <th>7</th>\n",
       "      <td>10</td>\n",
       "      <td>6</td>\n",
       "      <td>0.999975</td>\n",
       "      <td>0.000025</td>\n",
       "    </tr>\n",
       "    <tr>\n",
       "      <th>8</th>\n",
       "      <td>14</td>\n",
       "      <td>2</td>\n",
       "      <td>0.999981</td>\n",
       "      <td>0.000019</td>\n",
       "    </tr>\n",
       "    <tr>\n",
       "      <th>9</th>\n",
       "      <td>12</td>\n",
       "      <td>2</td>\n",
       "      <td>0.999986</td>\n",
       "      <td>0.000014</td>\n",
       "    </tr>\n",
       "    <tr>\n",
       "      <th>10</th>\n",
       "      <td>8</td>\n",
       "      <td>2</td>\n",
       "      <td>0.999992</td>\n",
       "      <td>0.000008</td>\n",
       "    </tr>\n",
       "    <tr>\n",
       "      <th>11</th>\n",
       "      <td>20</td>\n",
       "      <td>1</td>\n",
       "      <td>0.999994</td>\n",
       "      <td>0.000006</td>\n",
       "    </tr>\n",
       "    <tr>\n",
       "      <th>12</th>\n",
       "      <td>15</td>\n",
       "      <td>1</td>\n",
       "      <td>0.999997</td>\n",
       "      <td>0.000003</td>\n",
       "    </tr>\n",
       "    <tr>\n",
       "      <th>13</th>\n",
       "      <td>13</td>\n",
       "      <td>1</td>\n",
       "      <td>1.000000</td>\n",
       "      <td>0.000000</td>\n",
       "    </tr>\n",
       "  </tbody>\n",
       "</table>\n",
       "</div>"
      ],
      "text/plain": [
       "    total_people  frequency  cumulative      ccdf\n",
       "0              1     333331    0.924974  0.075026\n",
       "1              2      19464    0.978985  0.021015\n",
       "2              3       5909    0.995382  0.004618\n",
       "3              4       1512    0.999578  0.000422\n",
       "4              5        111    0.999886  0.000114\n",
       "5              6         19    0.999939  0.000061\n",
       "6              7          7    0.999958  0.000042\n",
       "7             10          6    0.999975  0.000025\n",
       "8             14          2    0.999981  0.000019\n",
       "9             12          2    0.999986  0.000014\n",
       "10             8          2    0.999992  0.000008\n",
       "11            20          1    0.999994  0.000006\n",
       "12            15          1    0.999997  0.000003\n",
       "13            13          1    1.000000  0.000000"
      ]
     },
     "execution_count": 185,
     "metadata": {},
     "output_type": "execute_result"
    }
   ],
   "source": [
    "fr = frequency(df.groupby(['user_id','entry_time','museum_id']).sum()['total_people'].to_frame(),'total_people')\n",
    "fr"
   ]
  },
  {
   "cell_type": "code",
   "execution_count": 192,
   "metadata": {},
   "outputs": [
    {
     "data": {
      "text/plain": [
       "92.497391555299018"
      ]
     },
     "execution_count": 192,
     "metadata": {},
     "output_type": "execute_result"
    }
   ],
   "source": [
    "100-(fr['cumulative'].sub(fr['cumulative'].shift())*100).sum()"
   ]
  },
  {
   "cell_type": "code",
   "execution_count": 193,
   "metadata": {},
   "outputs": [
    {
     "data": {
      "text/plain": [
       "0          NaN\n",
       "1     5.401145\n",
       "2     1.639713\n",
       "3     0.419571\n",
       "4     0.030802\n",
       "5     0.005272\n",
       "6     0.001942\n",
       "7     0.001665\n",
       "8     0.000555\n",
       "9     0.000555\n",
       "10    0.000555\n",
       "11    0.000277\n",
       "12    0.000277\n",
       "13    0.000277\n",
       "Name: cumulative, dtype: float64"
      ]
     },
     "execution_count": 193,
     "metadata": {},
     "output_type": "execute_result"
    }
   ],
   "source": [
    "fr['cumulative'].sub(fr['cumulative'].shift())*100"
   ]
  },
  {
   "cell_type": "code",
   "execution_count": null,
   "metadata": {
    "collapsed": true
   },
   "outputs": [],
   "source": [
    "# # Card use count\n",
    "# total_card_use_count = pd.DataFrame(df.groupby('user_id', as_index=True).size().rename('total_card_use_count'))\n",
    "# df = pd.merge(total_card_use_count.reset_index(), df, on=['user_id'], how='inner')\n",
    "\n",
    "# trace = go.Histogram(x=df['total_card_use_count'], xbins=dict(start=np.min(df['total_card_use_count']), size=1, end=np.max(df['total_card_use_count'])),\n",
    "#                      marker=dict(color='rgb(0, 0, 100)'))\n",
    "# layout = go.Layout(\n",
    "#     title=\"Card use count\",\n",
    "#     legend=dict(\n",
    "#         x=1,\n",
    "#         y=1,\n",
    "#         traceorder='normal',\n",
    "#         font=dict(\n",
    "#             family='sans-serif',\n",
    "#             size=12,\n",
    "#             color='#000'\n",
    "#         ),\n",
    "#         bgcolor='#E2E2E2',\n",
    "#         bordercolor='#FFFFFF',\n",
    "#         borderwidth=2\n",
    "#     )\n",
    "# )\n",
    "# fig = go.Figure(data=go.Data([trace]), layout=layout)\n",
    "# py.iplot(fig, filename='CUC', sharing='private', auto_open=False)"
   ]
  },
  {
   "cell_type": "code",
   "execution_count": 29,
   "metadata": {},
   "outputs": [
    {
     "data": {
      "text/html": [
       "<div>\n",
       "<style>\n",
       "    .dataframe thead tr:only-child th {\n",
       "        text-align: right;\n",
       "    }\n",
       "\n",
       "    .dataframe thead th {\n",
       "        text-align: left;\n",
       "    }\n",
       "\n",
       "    .dataframe tbody tr th {\n",
       "        vertical-align: top;\n",
       "    }\n",
       "</style>\n",
       "<table border=\"1\" class=\"dataframe\">\n",
       "  <thead>\n",
       "    <tr style=\"text-align: right;\">\n",
       "      <th></th>\n",
       "      <th>user_id</th>\n",
       "      <th>entry_time</th>\n",
       "      <th>museum_id</th>\n",
       "      <th>total_people</th>\n",
       "      <th>total_adults</th>\n",
       "    </tr>\n",
       "  </thead>\n",
       "  <tbody>\n",
       "    <tr>\n",
       "      <th>0</th>\n",
       "      <td>1459702</td>\n",
       "      <td>2016-06-22 10:04:00</td>\n",
       "      <td>10</td>\n",
       "      <td>1</td>\n",
       "      <td>1</td>\n",
       "    </tr>\n",
       "    <tr>\n",
       "      <th>1</th>\n",
       "      <td>1459702</td>\n",
       "      <td>2016-06-22 14:26:00</td>\n",
       "      <td>15</td>\n",
       "      <td>1</td>\n",
       "      <td>1</td>\n",
       "    </tr>\n",
       "    <tr>\n",
       "      <th>2</th>\n",
       "      <td>1459702</td>\n",
       "      <td>2016-06-22 15:49:00</td>\n",
       "      <td>11</td>\n",
       "      <td>1</td>\n",
       "      <td>1</td>\n",
       "    </tr>\n",
       "    <tr>\n",
       "      <th>3</th>\n",
       "      <td>1459702</td>\n",
       "      <td>2016-06-23 09:43:00</td>\n",
       "      <td>3</td>\n",
       "      <td>1</td>\n",
       "      <td>1</td>\n",
       "    </tr>\n",
       "    <tr>\n",
       "      <th>4</th>\n",
       "      <td>1459702</td>\n",
       "      <td>2016-06-23 11:14:00</td>\n",
       "      <td>29</td>\n",
       "      <td>1</td>\n",
       "      <td>1</td>\n",
       "    </tr>\n",
       "  </tbody>\n",
       "</table>\n",
       "</div>"
      ],
      "text/plain": [
       "   user_id           entry_time  museum_id  total_people  total_adults\n",
       "0  1459702  2016-06-22 10:04:00         10             1             1\n",
       "1  1459702  2016-06-22 14:26:00         15             1             1\n",
       "2  1459702  2016-06-22 15:49:00         11             1             1\n",
       "3  1459702  2016-06-23 09:43:00          3             1             1\n",
       "4  1459702  2016-06-23 11:14:00         29             1             1"
      ]
     },
     "execution_count": 29,
     "metadata": {},
     "output_type": "execute_result"
    }
   ],
   "source": [
    "df2 = df.groupby(['user_id','entry_time','museum_id']).sum()[['total_people','total_adults']].reset_index()\n",
    "df2.head()"
   ]
  },
  {
   "cell_type": "code",
   "execution_count": 41,
   "metadata": {},
   "outputs": [
    {
     "data": {
      "text/html": [
       "<div>\n",
       "<style>\n",
       "    .dataframe thead tr:only-child th {\n",
       "        text-align: right;\n",
       "    }\n",
       "\n",
       "    .dataframe thead th {\n",
       "        text-align: left;\n",
       "    }\n",
       "\n",
       "    .dataframe tbody tr th {\n",
       "        vertical-align: top;\n",
       "    }\n",
       "</style>\n",
       "<table border=\"1\" class=\"dataframe\">\n",
       "  <thead>\n",
       "    <tr style=\"text-align: right;\">\n",
       "      <th></th>\n",
       "      <th>museums_visited</th>\n",
       "      <th>total_entries</th>\n",
       "      <th>adult_entries</th>\n",
       "    </tr>\n",
       "    <tr>\n",
       "      <th>user_id</th>\n",
       "      <th></th>\n",
       "      <th></th>\n",
       "      <th></th>\n",
       "    </tr>\n",
       "  </thead>\n",
       "  <tbody>\n",
       "    <tr>\n",
       "      <th>1459702</th>\n",
       "      <td>8</td>\n",
       "      <td>8</td>\n",
       "      <td>8</td>\n",
       "    </tr>\n",
       "    <tr>\n",
       "      <th>1473903</th>\n",
       "      <td>6</td>\n",
       "      <td>6</td>\n",
       "      <td>6</td>\n",
       "    </tr>\n",
       "    <tr>\n",
       "      <th>1473904</th>\n",
       "      <td>6</td>\n",
       "      <td>6</td>\n",
       "      <td>6</td>\n",
       "    </tr>\n",
       "    <tr>\n",
       "      <th>1473905</th>\n",
       "      <td>5</td>\n",
       "      <td>5</td>\n",
       "      <td>5</td>\n",
       "    </tr>\n",
       "    <tr>\n",
       "      <th>1473906</th>\n",
       "      <td>11</td>\n",
       "      <td>12</td>\n",
       "      <td>11</td>\n",
       "    </tr>\n",
       "  </tbody>\n",
       "</table>\n",
       "</div>"
      ],
      "text/plain": [
       "         museums_visited  total_entries  adult_entries\n",
       "user_id                                               \n",
       "1459702                8              8              8\n",
       "1473903                6              6              6\n",
       "1473904                6              6              6\n",
       "1473905                5              5              5\n",
       "1473906               11             12             11"
      ]
     },
     "execution_count": 41,
     "metadata": {},
     "output_type": "execute_result"
    }
   ],
   "source": [
    "df3 = df2[['user_id','museum_id']].groupby('user_id').count().join(df2[['user_id','total_people','total_adults']].groupby('user_id').sum())\n",
    "df3.columns = ['museums_visited','total_entries','adult_entries']\n",
    "df3.head()"
   ]
  },
  {
   "cell_type": "code",
   "execution_count": 201,
   "metadata": {},
   "outputs": [
    {
     "data": {
      "text/html": [
       "<iframe id=\"igraph\" scrolling=\"no\" style=\"border:none;\" seamless=\"seamless\" src=\"https://plot.ly/~qiweihan/148.embed\" height=\"800px\" width=\"1200px\"></iframe>"
      ],
      "text/plain": [
       "<plotly.tools.PlotlyDisplay object>"
      ]
     },
     "execution_count": 201,
     "metadata": {},
     "output_type": "execute_result"
    }
   ],
   "source": [
    "# Frequency plot of number of unique museums visited per card\n",
    "x = df3['museums_visited']\n",
    "trace1 = go.Histogram(x=x, xbins=dict(start=np.min(x)-.25, size=.5, end=np.max(x)+.25),\n",
    "                     marker=dict(color='#CC171D'),\n",
    "                     name = 'Museums visited')\n",
    "\n",
    "# trace2 = go.Histogram(x=adult, xbins=dict(start=np.min(adult), size=1, end=np.max(adult)),\n",
    "#                      marker=dict(color='rgb(0, 100, 0)'),\n",
    "#                      name = 'Adults')\n",
    "\n",
    "layout = go.Layout(\n",
    "    title=\"Number of Museums Visited per Card\",\n",
    "    titlefont=dict(size=28),\n",
    "#     legend=dict(\n",
    "#         traceorder='normal',\n",
    "#         font=dict(\n",
    "#             family='sans-serif',\n",
    "#             size=12,\n",
    "#             color='#000'\n",
    "#         ),\n",
    "#         bgcolor='#CC171D',\n",
    "#         bordercolor='#FFFFFF',\n",
    "#         borderwidth=0\n",
    "#     ),\n",
    "    width=1200,\n",
    "    height=800,\n",
    "    xaxis=dict(\n",
    "        title='Number of Museums Visited',\n",
    "        titlefont=dict(size=20),\n",
    "        range=[0.75,32.25],\n",
    "        nticks=32,\n",
    "        ticks='outside',\n",
    "        tickfont=dict(size=16)\n",
    "    ), \n",
    "    yaxis=dict(\n",
    "        title='Number of Cards',\n",
    "        titlefont=dict(size=20),\n",
    "        ticks='outside',\n",
    "        tickfont=dict(size=16)\n",
    "    )\n",
    ")\n",
    "fig = go.Figure(data=go.Data([trace1]), layout=layout)\n",
    "py.iplot(fig, filename='MPC_2', sharing='private', auto_open=False)"
   ]
  },
  {
   "cell_type": "code",
   "execution_count": 204,
   "metadata": {},
   "outputs": [
    {
     "data": {
      "text/plain": [
       "user_id\n",
       "1459702    29.016667\n",
       "1473903    52.183333\n",
       "1473904    52.183333\n",
       "1473905    25.166667\n",
       "1473906    48.466667\n",
       "Name: total_duration_card_use, dtype: float64"
      ]
     },
     "execution_count": 204,
     "metadata": {},
     "output_type": "execute_result"
    }
   ],
   "source": [
    "x = df.groupby('user_id')['total_duration_card_use'].max()/pd.Timedelta('1 hour')\n",
    "x.head()"
   ]
  },
  {
   "cell_type": "code",
   "execution_count": 101,
   "metadata": {},
   "outputs": [
    {
     "data": {
      "text/plain": [
       "KernelDensity(algorithm='auto', atol=0, bandwidth=0.75, breadth_first=True,\n",
       "       kernel='gaussian', leaf_size=40, metric='euclidean',\n",
       "       metric_params=None, rtol=0)"
      ]
     },
     "execution_count": 101,
     "metadata": {},
     "output_type": "execute_result"
    }
   ],
   "source": [
    "# kde = KernelDensity(kernel='gaussian', bandwidth=0.75).fit(x.as_matrix()c\n",
    "# kde"
   ]
  },
  {
   "cell_type": "code",
   "execution_count": 208,
   "metadata": {},
   "outputs": [
    {
     "data": {
      "text/html": [
       "<iframe id=\"igraph\" scrolling=\"no\" style=\"border:none;\" seamless=\"seamless\" src=\"https://plot.ly/~qiweihan/150.embed\" height=\"800px\" width=\"1200px\"></iframe>"
      ],
      "text/plain": [
       "<plotly.tools.PlotlyDisplay object>"
      ]
     },
     "execution_count": 208,
     "metadata": {},
     "output_type": "execute_result"
    }
   ],
   "source": [
    "trace = go.Histogram(x=x[x>0],\n",
    "                     xbins=dict(start=np.min(x), size=1.0/4.0,\n",
    "                                end=np.max(x)),\n",
    "                     marker=dict(color='#CC171D'))\n",
    "\n",
    "layout = go.Layout(\n",
    "    title=\"Duration of Card Usage\",\n",
    "    titlefont=dict(size=28),\n",
    "    width=1200,\n",
    "    height=800,\n",
    "    xaxis=dict(\n",
    "        title='Hours Between First and Last Use of Card (bins of 15 minutes)',\n",
    "        titlefont=dict(size=20),\n",
    "        range=[0,72],\n",
    "        nticks=32,\n",
    "        ticks='outside',\n",
    "        tickfont=dict(size=16)\n",
    "    ),\n",
    "    yaxis=dict(\n",
    "        title='Number of Cards',\n",
    "        titlefont=dict(size=20),\n",
    "        ticks='outside',\n",
    "        tickfont=dict(size=16)\n",
    "    )\n",
    ")\n",
    "fig = go.Figure(data=go.Data([trace]), layout=layout)\n",
    "py.iplot(fig, filename='DOU_2', sharing='private', auto_open=False)"
   ]
  },
  {
   "cell_type": "code",
   "execution_count": 196,
   "metadata": {
    "collapsed": true
   },
   "outputs": [],
   "source": [
    "# df['time_until_next_museum'] = df['time_until_next_museum'].apply(\n",
    "#     lambda x: pd.Timedelta(x) / pd.Timedelta('1 hour'))\n",
    "# trace = go.Histogram(x=df['time_until_next_museum'], xbins=dict(start=np.min(x), size=0.25, end=np.max(x)),\n",
    "#                      marker=dict(color='rgb(0, 0, 100)'))\n",
    "# layout = go.Layout(\n",
    "#     title=\"\"\n",
    "# )\n",
    "# fig = go.Figure(data=go.Data([trace]), layout=layout)\n",
    "# py.iplot(fig, filename='TUNM', sharing='private', auto_open=False)"
   ]
  },
  {
   "cell_type": "code",
   "execution_count": 15,
   "metadata": {
    "collapsed": true
   },
   "outputs": [],
   "source": [
    "# Histogram of Monthly total museum entry data - from florence card \n",
    "#https://plot.ly/~qiweihan/110"
   ]
  },
  {
   "cell_type": "code",
   "execution_count": 194,
   "metadata": {},
   "outputs": [
    {
     "name": "stdout",
     "output_type": "stream",
     "text": [
      "The sql extension is already loaded. To reload it, use:\n",
      "  %reload_ext sql\n"
     ]
    }
   ],
   "source": [
    "# Histogram of Monthly total museum entry data - from National Museums\n",
    "# Comparison of PROPORTION of Firenze card entries with museum totals (pie chart?)\n",
    "%load_ext sql\n",
    "#TODO: connect with dbutils\n",
    "conn_str = \"\"\n",
    "conn = psycopg2.connect(conn_str)\n",
    "c = conn.cursor()\n",
    "\n",
    "test = get_national_museums(conn, export_to_csv=True, export_path='../src/output/')\n",
    "test = test[(test['visit_month'] == 'June') | (test['visit_month'] == 'July') | \n",
    "            (test['visit_month'] == 'August') | (test['visit_month'] == 'September')]"
   ]
  },
  {
   "cell_type": "code",
   "execution_count": 195,
   "metadata": {},
   "outputs": [
    {
     "data": {
      "text/html": [
       "<iframe id=\"igraph\" scrolling=\"no\" style=\"border:none;\" seamless=\"seamless\" src=\"https://plot.ly/~qiweihan/124.embed\" height=\"800px\" width=\"900px\"></iframe>"
      ],
      "text/plain": [
       "<plotly.tools.PlotlyDisplay object>"
      ]
     },
     "execution_count": 195,
     "metadata": {},
     "output_type": "execute_result"
    }
   ],
   "source": [
    "trace = Bar(\n",
    "        x=test['place'],\n",
    "        y=test['total_visitors'],\n",
    "        )\n",
    "\n",
    "fig = go.Figure(data=go.Data([trace]))\n",
    "fig['layout'].update(height=800, width=900, title='Stacked subplots')\n",
    "\n",
    "py.iplot(fig, filename='State Museum Entries', sharing='private')"
   ]
  },
  {
   "cell_type": "code",
   "execution_count": 18,
   "metadata": {
    "collapsed": true
   },
   "outputs": [],
   "source": [
    "# # Which museums are most popular? number of entries per museum, per date\n",
    "# trace = Bar(\n",
    "#         x=df[],\n",
    "#         y=df[],\n",
    "#         )\n",
    "\n",
    "# fig = go.Figure(data=go.Data([trace]))\n",
    "# fig['layout'].update(height=800, width=900, title='Stacked subplots')\n",
    "\n",
    "# py.iplot(fig, filename='', sharing='private')"
   ]
  },
  {
   "cell_type": "code",
   "execution_count": 19,
   "metadata": {
    "collapsed": true
   },
   "outputs": [],
   "source": [
    "# Timeline of usage(per avg hour, calendar day, calendar month, weekday) - segment per museum\n",
    "\n"
   ]
  },
  {
   "cell_type": "code",
   "execution_count": null,
   "metadata": {
    "collapsed": true
   },
   "outputs": [],
   "source": [
    "# # Daytype of activation of card\n",
    "# # get day of week for first use for every user\n",
    "# trace = go.Histogram(x=df[''], xbins=dict(start=np.min(x), size=0.25, end=np.max(x)),\n",
    "#                      marker=dict(color='rgb(0, 0, 100)'))\n",
    "# layout = go.Layout(\n",
    "#     title=\"\"\n",
    "# )\n",
    "# fig = go.Figure(data=go.Data([trace]), layout=layout)\n",
    "# py.iplot(fig, filename='daytype of activation', sharing='private', auto_open=False)"
   ]
  },
  {
   "cell_type": "code",
   "execution_count": 27,
   "metadata": {},
   "outputs": [
    {
     "data": {
      "text/html": [
       "<div>\n",
       "<style>\n",
       "    .dataframe thead tr:only-child th {\n",
       "        text-align: right;\n",
       "    }\n",
       "\n",
       "    .dataframe thead th {\n",
       "        text-align: left;\n",
       "    }\n",
       "\n",
       "    .dataframe tbody tr th {\n",
       "        vertical-align: top;\n",
       "    }\n",
       "</style>\n",
       "<table border=\"1\" class=\"dataframe\">\n",
       "  <thead>\n",
       "    <tr style=\"text-align: right;\">\n",
       "      <th></th>\n",
       "      <th>day_of_week</th>\n",
       "      <th>frequency</th>\n",
       "    </tr>\n",
       "  </thead>\n",
       "  <tbody>\n",
       "    <tr>\n",
       "      <th>0</th>\n",
       "      <td>Tuesday</td>\n",
       "      <td>9959</td>\n",
       "    </tr>\n",
       "    <tr>\n",
       "      <th>1</th>\n",
       "      <td>Wednesday</td>\n",
       "      <td>8150</td>\n",
       "    </tr>\n",
       "    <tr>\n",
       "      <th>2</th>\n",
       "      <td>Friday</td>\n",
       "      <td>7601</td>\n",
       "    </tr>\n",
       "    <tr>\n",
       "      <th>3</th>\n",
       "      <td>Thursday</td>\n",
       "      <td>7592</td>\n",
       "    </tr>\n",
       "    <tr>\n",
       "      <th>4</th>\n",
       "      <td>Monday</td>\n",
       "      <td>6439</td>\n",
       "    </tr>\n",
       "    <tr>\n",
       "      <th>5</th>\n",
       "      <td>Saturday</td>\n",
       "      <td>5648</td>\n",
       "    </tr>\n",
       "    <tr>\n",
       "      <th>6</th>\n",
       "      <td>Sunday</td>\n",
       "      <td>4919</td>\n",
       "    </tr>\n",
       "  </tbody>\n",
       "</table>\n",
       "</div>"
      ],
      "text/plain": [
       "  day_of_week  frequency\n",
       "0     Tuesday       9959\n",
       "1   Wednesday       8150\n",
       "2      Friday       7601\n",
       "3    Thursday       7592\n",
       "4      Monday       6439\n",
       "5    Saturday       5648\n",
       "6      Sunday       4919"
      ]
     },
     "execution_count": 27,
     "metadata": {},
     "output_type": "execute_result"
    }
   ],
   "source": [
    "dotw = {0:'Monday',\n",
    "       1:'Tuesday',\n",
    "       2:'Wednesday',\n",
    "       3:'Thursday',\n",
    "       4:'Friday',\n",
    "       5:'Saturday',\n",
    "       6:'Sunday'}\n",
    "x = df[df['adults_first_use']==1][['user_id','day_of_week']].groupby('user_id').mean()['day_of_week'].map(dotw).to_frame()\n",
    "fr2 = frequency(x,'day_of_week')[['day_of_week','frequency']]\n",
    "fr2"
   ]
  },
  {
   "cell_type": "code",
   "execution_count": 28,
   "metadata": {},
   "outputs": [
    {
     "data": {
      "text/html": [
       "<iframe id=\"igraph\" scrolling=\"no\" style=\"border:none;\" seamless=\"seamless\" src=\"https://plot.ly/~qiweihan/160.embed\" height=\"800px\" width=\"1200px\"></iframe>"
      ],
      "text/plain": [
       "<plotly.tools.PlotlyDisplay object>"
      ]
     },
     "execution_count": 28,
     "metadata": {},
     "output_type": "execute_result"
    }
   ],
   "source": [
    "# Frequency plot of number of unique museums visited per card\n",
    "trace = go.Bar(x=['Sunday','Monday','Tuesday','Wednesday','Thursday','Friday','Satuday'], \n",
    "               y=[4919,6439,9959,8150,8150,7601,5648],\n",
    "               marker=dict(color='#CC171D'))\n",
    "\n",
    "layout = go.Layout(\n",
    "    title=\"Day of Firenze Card Activation\",\n",
    "    titlefont=dict(size=28),\n",
    "    width=1200,\n",
    "    height=800,\n",
    "    xaxis=dict(\n",
    "        title='Day of the Week',\n",
    "        titlefont=dict(size=20),\n",
    "        nticks=7,\n",
    "        ticks='outside',\n",
    "        tickfont=dict(size=16)\n",
    "    ),\n",
    "    yaxis=dict(\n",
    "        title='Number of Cards Activated',\n",
    "        titlefont=dict(size=20),\n",
    "        ticks='outside',\n",
    "        tickfont=dict(size=16)\n",
    "    )\n",
    ")\n",
    "fig = go.Figure(data=go.Data([trace]), layout=layout)\n",
    "py.iplot(fig, filename='daytype of activation', sharing='private', auto_open=False)"
   ]
  },
  {
   "cell_type": "code",
   "execution_count": null,
   "metadata": {
    "collapsed": true
   },
   "outputs": [],
   "source": []
  }
 ],
 "metadata": {
  "kernelspec": {
   "display_name": "Python 2",
   "language": "python",
   "name": "python2"
  },
  "language_info": {
   "codemirror_mode": {
    "name": "ipython",
    "version": 2
   },
   "file_extension": ".py",
   "mimetype": "text/x-python",
   "name": "python",
   "nbconvert_exporter": "python",
   "pygments_lexer": "ipython2",
   "version": "2.7.13"
  }
 },
 "nbformat": 4,
 "nbformat_minor": 2
}
